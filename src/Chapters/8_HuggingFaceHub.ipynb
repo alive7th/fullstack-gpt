{
 "cells": [
  {
   "cell_type": "code",
   "execution_count": 5,
   "metadata": {},
   "outputs": [
    {
     "data": {
      "text/plain": [
       "'?\\nI am not able to provide an answer to this question as I do not have access to any AI models. Can you please provide more context or clarify your question?'"
      ]
     },
     "execution_count": 5,
     "metadata": {},
     "output_type": "execute_result"
    }
   ],
   "source": [
    "# from langchain.llms.huggingface_pipeline import HuggingFacePipeline\n",
    "# from langchain.llms import HuggingFaceHub\n",
    "from langchain.llms import GPT4All\n",
    "from langchain.prompts import PromptTemplate\n",
    "\n",
    "# prompt = PromptTemplate.from_template(\"[INST]What is the meaning of {word}[/INST]\")\n",
    "# prompt = PromptTemplate.from_template(\"A {word} is a\")\n",
    "# prompt = PromptTemplate.from_template(\"너는 머신러닝 모델에 대해 어시스턴트 해야해. {word}.\")\n",
    "prompt = PromptTemplate.from_template(\"{word}\")\n",
    "# prompt = PromptTemplate.from_template(\"You are a helpful assistant that define words. Define this word: {word}.\")\n",
    "\n",
    "# llm = HuggingFaceHub(\n",
    "#     repo_id=\"mistralai/Mistral-7B-Instruct-v0.1\",\n",
    "#     model_kwargs={\n",
    "#         \"max_new_tokens\": 250\n",
    "#     },\n",
    "# )\n",
    "\n",
    "# llm = HuggingFacePipeline.from_model_id(\n",
    "#     model_id=\"gpt2\",\n",
    "#     task=\"text-generation\",\n",
    "#     device=-1 ,# 0이면 GPU, -1이면 CPU 사용. (0은 맥북 동작안함.)\n",
    "#     pipeline_kwargs={ \n",
    "#         \"max_new_tokens\": 150\n",
    "#     }\n",
    "# )\n",
    "\n",
    "llm = GPT4All(\n",
    "    model=\"./files/gpt4all-falcon-q4_0.gguf\",\n",
    "\n",
    ")\n",
    "\n",
    "chain = prompt | llm\n",
    "\n",
    "chain.invoke({\n",
    "    \"word\":\"What is your AI model\"\n",
    "})"
   ]
  }
 ],
 "metadata": {
  "kernelspec": {
   "display_name": "env",
   "language": "python",
   "name": "python3"
  },
  "language_info": {
   "codemirror_mode": {
    "name": "ipython",
    "version": 3
   },
   "file_extension": ".py",
   "mimetype": "text/x-python",
   "name": "python",
   "nbconvert_exporter": "python",
   "pygments_lexer": "ipython3",
   "version": "3.11.7"
  }
 },
 "nbformat": 4,
 "nbformat_minor": 2
}
