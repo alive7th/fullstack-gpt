{
 "cells": [
  {
   "cell_type": "code",
   "execution_count": 2,
   "metadata": {},
   "outputs": [],
   "source": [
    "from langchain.chat_models import ChatOpenAI\n",
    "from langchain.prompts import PromptTemplate, ChatPromptTemplate\n",
    "\n",
    "chat = ChatOpenAI(temperature=0.1)\n",
    "\n",
    "# template = PromptTemplate.from_template(\"{country_a}에서 {country_b}까지의 거리는 얼마나 되지?\")\n",
    "\n",
    "# prompt = template.format(country_a=\"영국\", country_b=\"독일\")\n",
    "\n",
    "# chat.predict(prompt)\n"
   ]
  },
  {
   "cell_type": "code",
   "execution_count": 8,
   "metadata": {},
   "outputs": [
    {
     "data": {
      "text/plain": [
       "AIMessage(content='こんにちは、私の名前はギガジョンウォンです。韓国から日本までの距離は、直線距離で約900キロメートルです。')"
      ]
     },
     "execution_count": 8,
     "metadata": {},
     "output_type": "execute_result"
    }
   ],
   "source": [
    "template = ChatPromptTemplate.from_messages(\n",
    "    [\n",
    "        (\"system\", \"You are a geography expert. And you only reply in {language}\"),\n",
    "        (\"ai\", \"初めまして, 私の名前は {name}です。\"),\n",
    "        (\"human\", \"{country_a}から{country_b}までの距離は？そしてあなたのお名前は？\")\n",
    "    ]\n",
    ")\n",
    "\n",
    "prompt = template.format_messages(\n",
    "    language=\"Japanese\",\n",
    "    name=\"기가정원\",\n",
    "    country_a=\"한국\",\n",
    "    country_b=\"일본\"\n",
    ")\n",
    "chat.predict_messages(prompt)\n",
    "# from langchain.schema import HumanMessage, AIMessage, SystemMessage\n",
    " \n",
    "# messages =[\n",
    "#     SystemMessage(content=\"You are a geography expert. And you only reply in Korean\"),\n",
    "#     AIMessage(content=\"안녕하세요, 제이름은 기가정원입니다.\"),\n",
    "#     HumanMessage(content=\"한국의 서울에서 일본 도쿄까지의 거리는 얼마나 되지? 그리고 너의 이름은 뭐지?\"),\n",
    "# ]\n",
    "\n",
    "# chat.predict_messages(messages)\n"
   ]
  },
  {
   "cell_type": "markdown",
   "metadata": {},
   "source": [
    "# 3.3 OutputParser and LCEL\n",
    "## OutputParser\n",
    "LLM 의 응답(Response)를 변형해야할 경우 사용. (LLM은 항상 평문으로 오기때문에...)\n",
    "\n",
    "## 이번장 목표\n",
    "응답 값을 list로 변형 하기"
   ]
  },
  {
   "cell_type": "code",
   "execution_count": 1,
   "metadata": {},
   "outputs": [
    {
     "data": {
      "text/plain": [
       "['내', '이름', '정원']"
      ]
     },
     "execution_count": 1,
     "metadata": {},
     "output_type": "execute_result"
    }
   ],
   "source": [
    "from langchain.schema import BaseOutputParser\n",
    "\n",
    "class CommaOututParser(BaseOutputParser):\n",
    "    def parse(self, text):\n",
    "        # strip : 텍스트 앞뒤 공백 제거\n",
    "        items = text.strip().split(\",\")\n",
    "        return list(map(str.strip, items))\n",
    "    \n",
    "\n",
    "p = CommaOututParser()\n",
    "p.parse(\" 내 , 이름 , 정원 \")"
   ]
  },
  {
   "cell_type": "code",
   "execution_count": 10,
   "metadata": {},
   "outputs": [
    {
     "data": {
      "text/plain": [
       "['pikachu',\n",
       " 'charizard',\n",
       " 'bulbasaur',\n",
       " 'squirtle',\n",
       " 'jigglypuff',\n",
       " 'eevee',\n",
       " 'snorlax',\n",
       " 'mewtwo',\n",
       " 'articuno',\n",
       " 'zapdos']"
      ]
     },
     "execution_count": 10,
     "metadata": {},
     "output_type": "execute_result"
    }
   ],
   "source": [
    "template = ChatPromptTemplate.from_messages([\n",
    "    (\"system\", \"You are a list generating machine. Everthing you are asked will be answered with a comma separated list of max {max_items} in lowercase. Do NOT reply with anything else.\"),\n",
    "    (\"human\", \"{question}\")\n",
    "])\n",
    "\n",
    "# prompt = template.format_messages(max_items=10, question=\"What are the colors?\")\n",
    "\n",
    "# result = chat.predict_messages(prompt)\n",
    "\n",
    "# p = CommaOututParser()\n",
    "# p.parse(result.content)\n",
    "\n",
    "chain = template | chat | CommaOututParser()\n",
    "chain.invoke({\"question\":\"What are the pokemons?\",\"max_items\":10})"
   ]
  },
  {
   "cell_type": "markdown",
   "metadata": {},
   "source": [
    "# 3.4 Chaning Chains\n"
   ]
  },
  {
   "cell_type": "code",
   "execution_count": 8,
   "metadata": {},
   "outputs": [],
   "source": [
    "from langchain.chat_models import ChatOpenAI\n",
    "from langchain.prompts import ChatPromptTemplate\n",
    "from langchain.callbacks import StreamingStdOutCallbackHandler\n",
    "\n",
    "chat = ChatOpenAI(temperature=0.1, streaming=True, callbacks=[StreamingStdOutCallbackHandler()])\n",
    "\n",
    "chef_prompt = ChatPromptTemplate.from_messages([\n",
    "    (\"system\", \"You are a world-class international chef. You create easy to follow recipies for any type of cuisine with easy to find ingredients.\"),\n",
    "    (\"human\", \"I want to cook {cuisine} food.\"),\n",
    "])\n",
    "\n",
    "chef_chain = chef_prompt | chat\n",
    "\n"
   ]
  },
  {
   "cell_type": "code",
   "execution_count": 9,
   "metadata": {},
   "outputs": [
    {
     "name": "stdout",
     "output_type": "stream",
     "text": [
      "Great choice! Korean cuisine is known for its bold flavors and unique combinations. Here's a recipe for a classic Korean dish called Bibimbap:\n",
      "\n",
      "Ingredients:\n",
      "- 2 cups cooked short-grain rice\n",
      "- 1 cup thinly sliced beef (you can use sirloin or ribeye)\n",
      "- 1 cup julienned carrots\n",
      "- 1 cup julienned cucumber\n",
      "- 1 cup bean sprouts\n",
      "- 1 cup spinach\n",
      "- 4 eggs\n",
      "- 4 tablespoons soy sauce\n",
      "- 2 tablespoons sesame oil\n",
      "- 2 tablespoons gochujang (Korean chili paste)\n",
      "- 2 tablespoons vegetable oil\n",
      "- Salt, to taste\n",
      "- Sesame seeds, for garnish\n",
      "\n",
      "Instructions:\n",
      "1. Marinate the beef: In a bowl, combine the beef, 2 tablespoons soy sauce, and 1 tablespoon sesame oil. Mix well and let it marinate for at least 15 minutes.\n",
      "\n",
      "2. Prepare the vegetables: Blanch the bean sprouts and spinach in boiling water for 1-2 minutes. Drain and rinse with cold water. Squeeze out any excess water from the spinach. Season both with a pinch of salt and 1 tablespoon sesame oil.\n",
      "\n",
      "3. Cook the beef: Heat 1 tablespoon of vegetable oil in a pan over medium-high heat. Add the marinated beef and stir-fry until cooked through, about 3-4 minutes. Set aside.\n",
      "\n",
      "4. Fry the eggs: In the same pan, add a little more oil if needed and fry the eggs sunny-side up or over-easy, depending on your preference.\n",
      "\n",
      "5. Assemble the Bibimbap: Divide the cooked rice into four bowls. Arrange the cooked beef, carrots, cucumber, bean sprouts, spinach, and fried eggs on top of the rice.\n",
      "\n",
      "6. Make the Bibimbap sauce: In a small bowl, mix together 2 tablespoons soy sauce, 1 tablespoon sesame oil, and gochujang. Adjust the amount of gochujang according to your spice preference.\n",
      "\n",
      "7. Serve: Drizzle the Bibimbap sauce over the ingredients in each bowl. Sprinkle with sesame seeds for garnish. To eat, mix everything together thoroughly before enjoying!\n",
      "\n",
      "Bibimbap is a versatile dish, so feel free to add or substitute any vegetables or proteins based on your preference. Enjoy your homemade Korean feast!Here's a vegetarian version of the Bibimbap recipe:\n",
      "\n",
      "Ingredients:\n",
      "- 2 cups cooked short-grain rice\n",
      "- 1 cup thinly sliced tofu or tempeh (instead of beef)\n",
      "- 1 cup julienned carrots\n",
      "- 1 cup julienned cucumber\n",
      "- 1 cup bean sprouts\n",
      "- 1 cup spinach\n",
      "- 4 eggs (optional, omit for a vegan version)\n",
      "- 4 tablespoons soy sauce\n",
      "- 2 tablespoons sesame oil\n",
      "- 2 tablespoons gochujang (Korean chili paste)\n",
      "- 2 tablespoons vegetable oil\n",
      "- Salt, to taste\n",
      "- Sesame seeds, for garnish\n",
      "\n",
      "Instructions:\n",
      "1. Marinate the tofu or tempeh: In a bowl, combine the tofu or tempeh with 2 tablespoons soy sauce and 1 tablespoon sesame oil. Let it marinate for at least 15 minutes.\n",
      "\n",
      "2. Prepare the vegetables: Blanch the bean sprouts and spinach in boiling water for 1-2 minutes. Drain and rinse with cold water. Squeeze out any excess water from the spinach. Season both with a pinch of salt and 1 tablespoon sesame oil.\n",
      "\n",
      "3. Cook the tofu or tempeh: Heat 1 tablespoon of vegetable oil in a pan over medium-high heat. Add the marinated tofu or tempeh and stir-fry until cooked through, about 3-4 minutes. Set aside.\n",
      "\n",
      "4. Fry the eggs (optional): In the same pan, add a little more oil if needed and fry the eggs sunny-side up or over-easy, depending on your preference.\n",
      "\n",
      "5. Assemble the Bibimbap: Divide the cooked rice into four bowls. Arrange the cooked tofu or tempeh, carrots, cucumber, bean sprouts, spinach, and fried eggs (if using) on top of the rice.\n",
      "\n",
      "6. Make the Bibimbap sauce: In a small bowl, mix together 2 tablespoons soy sauce, 1 tablespoon sesame oil, and gochujang. Adjust the amount of gochujang according to your spice preference.\n",
      "\n",
      "7. Serve: Drizzle the Bibimbap sauce over the ingredients in each bowl. Sprinkle with sesame seeds for garnish. To eat, mix everything together thoroughly before enjoying!\n",
      "\n",
      "You can also add other vegetables like mushrooms, zucchini, or bell peppers to the Bibimbap according to your preference. Enjoy your vegetarian Korean feast!"
     ]
    },
    {
     "data": {
      "text/plain": [
       "AIMessageChunk(content=\"Here's a vegetarian version of the Bibimbap recipe:\\n\\nIngredients:\\n- 2 cups cooked short-grain rice\\n- 1 cup thinly sliced tofu or tempeh (instead of beef)\\n- 1 cup julienned carrots\\n- 1 cup julienned cucumber\\n- 1 cup bean sprouts\\n- 1 cup spinach\\n- 4 eggs (optional, omit for a vegan version)\\n- 4 tablespoons soy sauce\\n- 2 tablespoons sesame oil\\n- 2 tablespoons gochujang (Korean chili paste)\\n- 2 tablespoons vegetable oil\\n- Salt, to taste\\n- Sesame seeds, for garnish\\n\\nInstructions:\\n1. Marinate the tofu or tempeh: In a bowl, combine the tofu or tempeh with 2 tablespoons soy sauce and 1 tablespoon sesame oil. Let it marinate for at least 15 minutes.\\n\\n2. Prepare the vegetables: Blanch the bean sprouts and spinach in boiling water for 1-2 minutes. Drain and rinse with cold water. Squeeze out any excess water from the spinach. Season both with a pinch of salt and 1 tablespoon sesame oil.\\n\\n3. Cook the tofu or tempeh: Heat 1 tablespoon of vegetable oil in a pan over medium-high heat. Add the marinated tofu or tempeh and stir-fry until cooked through, about 3-4 minutes. Set aside.\\n\\n4. Fry the eggs (optional): In the same pan, add a little more oil if needed and fry the eggs sunny-side up or over-easy, depending on your preference.\\n\\n5. Assemble the Bibimbap: Divide the cooked rice into four bowls. Arrange the cooked tofu or tempeh, carrots, cucumber, bean sprouts, spinach, and fried eggs (if using) on top of the rice.\\n\\n6. Make the Bibimbap sauce: In a small bowl, mix together 2 tablespoons soy sauce, 1 tablespoon sesame oil, and gochujang. Adjust the amount of gochujang according to your spice preference.\\n\\n7. Serve: Drizzle the Bibimbap sauce over the ingredients in each bowl. Sprinkle with sesame seeds for garnish. To eat, mix everything together thoroughly before enjoying!\\n\\nYou can also add other vegetables like mushrooms, zucchini, or bell peppers to the Bibimbap according to your preference. Enjoy your vegetarian Korean feast!\")"
      ]
     },
     "execution_count": 9,
     "metadata": {},
     "output_type": "execute_result"
    }
   ],
   "source": [
    "veg_chef_prompt = ChatPromptTemplate.from_messages([\n",
    "    (\"system\", \"You are a vegetarian chef specialized on making traditional recipies vegetarian. You find alternative ingredients and explain their preparation. You don't radically modify the recipe. If there is no alternative for a food just say you don't know how to replace it.\"),\n",
    "    (\"human\", \"{recipe}\")\n",
    "])\n",
    "\n",
    "veg_chain = veg_chef_prompt | chat\n",
    "\n",
    "final_chain = {\"recipe\": chef_chain} | veg_chain\n",
    "\n",
    "final_chain.invoke({\"cuisine\": \"korean\"})\n",
    "\n"
   ]
  }
 ],
 "metadata": {
  "kernelspec": {
   "display_name": "env",
   "language": "python",
   "name": "python3"
  },
  "language_info": {
   "codemirror_mode": {
    "name": "ipython",
    "version": 3
   },
   "file_extension": ".py",
   "mimetype": "text/x-python",
   "name": "python",
   "nbconvert_exporter": "python",
   "pygments_lexer": "ipython3",
   "version": "3.11.6"
  }
 },
 "nbformat": 4,
 "nbformat_minor": 2
}
