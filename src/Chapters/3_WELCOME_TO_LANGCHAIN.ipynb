{
 "cells": [
  {
   "cell_type": "code",
   "execution_count": 2,
   "metadata": {},
   "outputs": [],
   "source": [
    "from langchain.chat_models import ChatOpenAI\n",
    "from langchain.prompts import PromptTemplate, ChatPromptTemplate\n",
    "\n",
    "chat = ChatOpenAI(temperature=0.1)\n",
    "\n",
    "# template = PromptTemplate.from_template(\"{country_a}에서 {country_b}까지의 거리는 얼마나 되지?\")\n",
    "\n",
    "# prompt = template.format(country_a=\"영국\", country_b=\"독일\")\n",
    "\n",
    "# chat.predict(prompt)\n"
   ]
  },
  {
   "cell_type": "code",
   "execution_count": 8,
   "metadata": {},
   "outputs": [
    {
     "data": {
      "text/plain": [
       "AIMessage(content='こんにちは、私の名前はギガジョンウォンです。韓国から日本までの距離は、直線距離で約900キロメートルです。')"
      ]
     },
     "execution_count": 8,
     "metadata": {},
     "output_type": "execute_result"
    }
   ],
   "source": [
    "template = ChatPromptTemplate.from_messages(\n",
    "    [\n",
    "        (\"system\", \"You are a geography expert. And you only reply in {language}\"),\n",
    "        (\"ai\", \"初めまして, 私の名前は {name}です。\"),\n",
    "        (\"human\", \"{country_a}から{country_b}までの距離は？そしてあなたのお名前は？\")\n",
    "    ]\n",
    ")\n",
    "\n",
    "prompt = template.format_messages(\n",
    "    language=\"Japanese\",\n",
    "    name=\"기가정원\",\n",
    "    country_a=\"한국\",\n",
    "    country_b=\"일본\"\n",
    ")\n",
    "chat.predict_messages(prompt)\n",
    "# from langchain.schema import HumanMessage, AIMessage, SystemMessage\n",
    " \n",
    "# messages =[\n",
    "#     SystemMessage(content=\"You are a geography expert. And you only reply in Korean\"),\n",
    "#     AIMessage(content=\"안녕하세요, 제이름은 기가정원입니다.\"),\n",
    "#     HumanMessage(content=\"한국의 서울에서 일본 도쿄까지의 거리는 얼마나 되지? 그리고 너의 이름은 뭐지?\"),\n",
    "# ]\n",
    "\n",
    "# chat.predict_messages(messages)\n"
   ]
  },
  {
   "cell_type": "markdown",
   "metadata": {},
   "source": [
    "# 3.3 OutputParser and LCEL\n",
    "## OutputParser\n",
    "LLM 의 응답(Response)를 변형해야할 경우 사용. (LLM은 항상 평문으로 오기때문에...)\n",
    "\n",
    "## 이번장 목표\n",
    "응답 값을 list로 변형 하기"
   ]
  },
  {
   "cell_type": "code",
   "execution_count": 1,
   "metadata": {},
   "outputs": [
    {
     "data": {
      "text/plain": [
       "['내', '이름', '정원']"
      ]
     },
     "execution_count": 1,
     "metadata": {},
     "output_type": "execute_result"
    }
   ],
   "source": [
    "from langchain.schema import BaseOutputParser\n",
    "\n",
    "class CommaOututParser(BaseOutputParser):\n",
    "    def parse(self, text):\n",
    "        # strip : 텍스트 앞뒤 공백 제거\n",
    "        items = text.strip().split(\",\")\n",
    "        return list(map(str.strip, items))\n",
    "    \n",
    "\n",
    "p = CommaOututParser()\n",
    "p.parse(\" 내 , 이름 , 정원 \")"
   ]
  }
 ],
 "metadata": {
  "kernelspec": {
   "display_name": "env",
   "language": "python",
   "name": "python3"
  },
  "language_info": {
   "codemirror_mode": {
    "name": "ipython",
    "version": 3
   },
   "file_extension": ".py",
   "mimetype": "text/x-python",
   "name": "python",
   "nbconvert_exporter": "python",
   "pygments_lexer": "ipython3",
   "version": "3.11.7"
  }
 },
 "nbformat": 4,
 "nbformat_minor": 2
}
