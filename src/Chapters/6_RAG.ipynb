{
 "cells": [
  {
   "cell_type": "markdown",
   "metadata": {},
   "source": [
    "# 6 RAG\n",
    "우리는 Document GPT App을 만들거다. 하지만 Streamlit을 바로 사용하진 않을거라 조금 투박해보일것임.\n",
    "Streamlit이 우리에게 멋진 UI를 제공할 것이다.\n",
    "그래서 우리는 먼저 Jupyter Notebook을 사용할 것이다.\n",
    "여기서 app의 파트별 흐름을 파악한 뒤에 streamlit을 배울 것이다.\n",
    "그 뒤에 app을 구성하고, 채팅으로 만들고, 멋진 UI를 입힐 거다.\n",
    "\n",
    "## 6.0 introduction\n",
    "이번 섹션에서는 `RAG(Retrieval-Augmented Generation\")`을 배울 것이다.\n",
    "model들은 많은 데이터를 통해 학습 하지만, 개인적인 데이터들엔 때론 접근 할 수 없다.\n",
    "`개인 DB나 문서 같은 것들`. Model들은 그런 데이터에 대해서 알수 없다.\n",
    "그래서 우리는 `RAG`을 사용한다.\n",
    "쉽게 말해 답변에 도움이 되는 정보를 개인으로부터  제공된 data를 사용하거나 탐색하여 Language Model의 능력을 확장하는 것이다.\n",
    "ChatGPT에서 파일 업로드하여 사용하는 것과 유사?\n",
    "원한다면 우리가 제공한 정보만으로 답변하게 할 수 있다.\n",
    "이게 바로 `RAG`!\n",
    "\n",
    "\n",
    "\n",
    "### Stuff Documents\n",
    "모든 문서를 prompt에 넣고 model에 전달하는 방식\n",
    "그 외\n",
    "* Refine Dcuments chain\n",
    "* Map Reduce 방식\n",
    "\n",
    "이건 얼마나 많은 문서를 갖고 있는지, 얼마만큼의 비용으로 운영할지, 어떤 모델을 사용할지, 얼마나 많은 token들을 사용할 수 있는지에 따라 달라진다.\n"
   ]
  },
  {
   "cell_type": "markdown",
   "metadata": {},
   "source": [
    "## 6.1 Data Loader and Splitters\n",
    "RAG의 첫번째  단계에 대해서 알아본다. 바로 Retrival이다.\n",
    "Retrival은 랭체인의 모듈.\n",
    "\n",
    "* Source > Load > Transform(Splitting) > Embed > Stroe > Retrieve"
   ]
  },
  {
   "cell_type": "code",
   "execution_count": 11,
   "metadata": {},
   "outputs": [
    {
     "data": {
      "text/plain": [
       "[Document(page_content='소년은 개울가에서 소녀를 보자 곧 윤 초시네 증손녀(曾孫女)딸이라는 걸 알 수 있었다. 소녀는 개울에다 손을 잠그고 물장난을 하고 있는 것이다. 서울서는 이런 개울물을 보지 못하기나 한 듯 이.\\n\\n벌써 며칠째 소녀는, 학교에서 돌아오는 길에 물장난이었다. 그런데, 어제까지 개울 기슭에서 하 더니, 오늘은 징검다리 한가운데 앉아서 하고 있다. 소년은 개울둑에 앉아 버렸다. 소녀가 비키기를 기다리자는 것이다. 요행 지나가는 사람이 있어, 소녀가 길을 비켜 주었다.\\n\\n \\n\\n다음 날은 좀 늦게 개울가로 나왔다.\\n\\n이 날은 소녀가 징검다리 한가운데 앉아 세수를 하고 있었다. 분홍 스웨터 소매를 걷어올린 목덜미가 마냥 희었다.\\n\\n한참 세수를 하고 나더니, 이번에는 물 속을 빤히 들여다 본다. 얼굴이라도 비추어 보는 것이리 라. 갑자기 물을 움켜 낸다. 고기 새끼라도 지나가는 듯. 소녀는 소년이 개울둑에 앉아 있는 걸 아는지 모르는지 그냥 날쌔게 물만 움켜 낸다. 그러나, 번번이 허탕이다. 그대로 재미있는 양, 자꾸 물만 움킨다. 어제처럼 개울을 건너는 사람이 있어야 길 을 비킬 모양이다.\\n\\n그러다가 소녀가 물 속에서 무엇을 하나 집어낸다. 하얀 조약돌이었다. 그리고는 벌떡 일어나 팔짝팔짝 징검다리를 뛰어 건너간다.\\n\\n다 건너가더니만 홱 이리로 돌아서며, \"이 바보.\"\\n\\n조약돌이 날아왔다. 소년은 저도 모르게 벌떡 일어섰다.\\n\\n단발 머리를 나풀거리며 소녀가 막 달린다. 갈밭 사잇길로 들어섰다. 뒤에는 청량한 가을 햇살 아래 빛나는 갈꽃뿐.\\n\\n이제 저쯤 갈밭머리로 소녀가 나타나리라. 꽤 오랜 시간이 지났다고 생각됐다. 그런데도 소녀는 나타나지 않는다. 발돋움을 했다. 그러고도 상당한 시간이 지났다고 생각됐다.\\n\\n저 쪽 갈밭머리에 갈꽃이 한 옴큼 움직였다. 소녀가 갈꽃을 안고 있었다. 그리고, 이제는 천천한 걸음이었다. 유난히 맑은 가을 햇살이 소녀의 갈꽃머리에서 반짝거렸다. 소녀 아닌 갈꽃이 들길을 걸어가는\\n\\n것만 같았다.\\n\\n소년은 이 갈꽃이 아주 뵈지 않게 되기까지 그대로 서 있었다. 문득, 소녀가 던지 조약돌을 내려 다보았다. 물기가 걷혀 있었다. 소년은 조약돌을 집어 주머니에 넣었다.\\n\\n \\n\\n다음 날부터 좀더 늦게 개울가로 나왔다. 소녀의 그림자가 뵈지 않았다. 다행이었다. 그러나, 이상한 일이었다. 소녀의 그림자가 뵈지 않는 날이 계속될수록 소년의 가슴 한 구석에는 어딘\\n\\n가 허전함이 자리 잡는 것이었다. 주머니 속 조약돌을 주무르는 버릇이 생겼다.\\n\\n그러한 어떤 날, 소년은 전에 소녀가 앉아 물장난을 하던 징검다리 한가운데에 앉아 보았다. 물 속에 손을 잠갔다. 세수를 하였다. 물 속을 들여다보았다. 검게 탄 얼굴이 그대로 비치었다. 싫었다.\\n\\n소년은 두 손으로 물 속의 얼굴을 움키었다. 몇 번이고 움키었다. 그러다가 깜짝 놀라 일어나고 말았다. 소녀가 이리로 건너오고 있지 않느냐.\\'숨어서 내가 하는 일을 엿보고 있었구나.\\' 소년은 달리기를 시작했다. 디딤돌을 헛디뎠다. 한 발이 물 속에 빠졌다. 더 달렸다.\\n\\n몸을 가릴 데가 있어 줬으면 좋겠다. 이 쪽 길에는 갈밭도 없다. 메밀밭이다. 전에 없이 메밀꽃 냄새가 짜릿하게 코를 찌른다고 생각됐다. 미간이 아찔했다. 찝찔한 액체가 입술에 흘러들었다. 코 피였다.\\n\\n소년은 한 손으로 코피를 훔쳐내면서 그냥 달렸다. 어디선가 \\'바보, 바보\\' 하는 소리가 자꾸만 뒤따라 오는 것 같았다.\\n\\n \\n\\n토요일이었다.\\n\\n개울가에 이르니, 며칠째 보이지 않던 소녀가 건너편 가에 앉아 물장난을 하고 있었다. 모르는 체 징검다리를 건너기 시작했다. 얼마 전에 소녀 앞에서 한 번 실수를 했을 뿐, 여태 큰길 가듯이 건너던 징검\\n\\n다리를 오늘은 조심스럽게 건넌다.\\n\\n\"얘.\"\\n\\n못 들은 체했다. 둑 위로 올라섰다.\\n\\n\"얘, 이게 무슨 조개지?\"\\n\\n자기도 모르게 돌아섰다. 소녀의 맑고 검은 눈과 마주쳤다. 얼른 소녀의 손바닥으로 눈을 떨구었다.\\n\\n\"비단조개.\"\\n\\n\"이름도 참 곱다.\"\\n\\n갈림길에 왔다. 여기서 소녀는 아래편으로 한 삼 마장쯤, 소년은 우대로 한 십 리 가까운 길을 가야 한다.\\n\\n소녀가 걸음을 멈추며, \"너, 저 산 너머에 가 본 일 있니?\"\\n\\n벌 끝을 가리켰다.\\n\\n\"없다.\"\\n\\n\"우리, 가보지 않으련? 시골 오니까 혼자서 심심해 못 견디겠다.\" \"저래 봬도 멀다.\"\\n\\n\"멀면 얼마나 멀기에? 서울 있을 땐 사뭇 먼 데까지 소풍 갔었다.\" 소녀의 눈이 금새 \\'바보,바보,\\'할 것 만 같았다.\\n\\n논 사잇길로 들어섰다. 벼 가을걷이하는 곁을 지났다.\\n\\n허수아비가 서 있었다. 소년이 새끼줄을 흔들었다. 참새가 몇 마리 날아간다. \\'참, 오늘은 일찍 집으로 돌아가 텃논의 참새를 봐야 할걸.\\' 하는 생각이 든다.\\n\\n\"야, 재밌다!\"\\n\\n소녀가 허수아비 줄을 잡더니 흔들어 댄다. 허수아비가 자꾸 우쭐거리며 춤을 춘다. 소녀의 왼쪽 볼에 살포시 보조개가 패었다.\\n\\n저만큼 허수아비가 또 서 있다. 소녀가 그리로 달려간다. 그 뒤를 소년도 달렸다. 오늘 같은 날 은 일찍 집으로 돌아가 집안일을 도와야 한다는 생각을 잊어버리기라도 하려는 듯이.\\n\\n소녀의 곁을 스쳐 그냥 달린다. 메뚜기가 따끔따끔 얼굴에 와 부딪친다. 쪽빛으로 한껏 갠 가을 하늘이 소년의 눈앞에서 맴을 돈다. 어지럽다. 저놈의 독수리, 저놈의 독수리, 저놈의 독수리가 맴 을 돌고 있기\\n\\n때문이다.\\n\\n돌아다보니, 소녀는 지금 자기가 지나쳐 온 허수아비를 흔들고 있다. 좀 전 허수아비보다 더 우쭐거린다.\\n\\n논이 끝난 곳에 도랑이 하나 있었다. 소녀가 먼저 뛰어 건넜다.\\n\\n거기서부터 산 밑까지는 밭이었다.\\n\\n수숫단을 세워 놓은 밭머리를 지났다.\\n\\n\"저게 뭐니?\"\\n\\n\"원두막.\"\\n\\n\"여기 참외, 맛있니?\"\\n\\n\"그럼, 참외 맛도 좋지만 수박 맛은 더 좋다.\"\\n\\n\"하나 먹어 봤으면.\"\\n\\n소년이 참외 그루에 심은 무우밭으로 들어가, 무우 두 밑을 뽑아 왔다. 아직 밑이 덜 들어 있었다. 잎을 비틀어 팽개친 후, 소녀에게 한 개 건넨다. 그리고는 이렇게 먹어야 한다는 듯이, 먼저 대강이를 한\\n\\n입 베물어 낸 다음, 손톱으로 한 돌이 껍질을 벗겨 우쩍 깨문다.\\n\\n소녀도 따라 했다. 그러나, 세 입도 못 먹고, \"아, 맵고 지려.\"\\n\\n하며 집어던지고 만다.\\n\\n\"참, 맛없어 못 먹겠다.\"\\n\\n소년이 더 멀리 팽개쳐 버렸다.\\n\\n산이 가까워졌다.\\n\\n단풍이 눈에 따가웠다.\\n\\n\"야아!\"\\n\\n소녀가 산을 향해 달려갔다. 이번은 소년이 뒤따라 달리지 않았다. 그러고도 곧 소녀보다 더 많은 꽃을\\n\\n꺾었다.\\n\\n\"이게 들국화, 이게 싸리꽃, 이게 도라지꽃,…….\"\\n\\n\"도라지꽃이 이렇게 예쁜 줄은 몰랐네. 난 보랏빛이 좋아! …… 그런데, 이 양산 같이 생긴 노란 꽃이\\n\\n뭐지?\"\\n\\n\"마타리꽃.\"\\n\\n소녀는 마타리꽃을 양산 받듯이 해 보인다. 약간 상기된 얼굴에 살포시 보조개를 떠올리며.다시 소년은 꽃 한 옴큼을 꺾어 왔다. 싱싱한 꽃가지만 골라 소녀에게 건넨다.\\n\\n그러나 소녀는\\n\\n\"하나도 버리지 마라.\"\\n\\n산마루께로 올라갔다.\\n\\n맞은편 골짜기에 오순도순 초가집이 몇 모여 있었다.\\n\\n누가 말할 것도 아닌데, 바위에 나란히 걸터앉았다. 유달리 주위가 조용해진 것 같았다. 따가운 가을 햇살만이 말라가는 풀 냄새를 퍼뜨리고 있었다.\\n\\n\"저건 또 무슨 꽃이지?\"\\n\\n적잖이 비탈진 곳에 칡덩굴이 엉키어 꽃을 달고 있었다.\\n\\n\"꼭 등꽃 같네. 서울 우리 학교에 큰 등나무가 있었단다. 저 꽃 을 보니까 등나무 밑에서 놀 던 동무들 생각이 난다.\"\\n\\n소녀가 조용히 일어나 비탈진 곳으로 간다. 꽃송이가 많이 달린 줄기를 잡고 끊기 시작한다. 좀처럼 끊어지지 않는다. 안간힘을 쓰다가 그만 미끄러지고 만다. 칡덩굴을 그러쥐었다.\\n\\n소년이 놀라 달려갔다. 소녀가 손을 내밀었다. 손을 잡아 이끌어 올리며, 소년은 제가 꺾어다 줄 것을 잘못했다고 뉘우친다. 소녀의 오른쪽 무릎에 핏방울이 내맺혔다. 소년은 저도 모르게 생채기 에 입술을\\n\\n가져다 대고 빨기 시작했다. 그러다가, 무슨 생각을 했는지 홱 일어나 저 쪽으로 달려간 다.\\n\\n좀 만에 숨이 차 돌아온 소년은\\n\\n\"이걸 바르면 낫는다.\"\\n\\n송진을 생채기에다 문질러 바르고는 그 달음으로 칡덩굴 있는 데로 내려가, 꽃 많이 달린 몇 줄기를 이빨로 끊어 가지고 올라온다. 그리고는, \"저기 송아지가 있다. 그리 가 보자.\"\\n\\n누렁송아지였다. 아직 코뚜레도 꿰지 않았다.\\n\\n소년이 고삐를 바투 잡아 쥐고 등을 긁어 주는 체 훌쩍 올라탔다. 송아지가 껑충거리며 돌아간 다.\\n\\n소녀의 흰 얼굴이, 분홍 스웨터가, 남색 스커트가, 안고 있는 꽃과 함께 범벅이 된다. 모두가 하 나의 큰 꽃묶음 같다. 어지럽다. 그러나, 내리지 않으리라. 자랑스러웠다. 이것만은 소녀가 흉내 내지 못할, 자\\n\\n기 혼자만이 할 수 있는 일인 것이다.\\n\\n\"너희, 예서 뭣들 하느냐?\"\\n\\n농부(農夫)하나가 억새풀 사이로 올라왔다.\\n\\n송아지 등에서 뛰어내렸다. 어린 송아지를 타서 허리가 상하면 어쩌느냐고 꾸지람을 들을 것만 같다.\\n\\n그런데, 나룻이 긴 농부는 소녀 편을 한 번 훑어보고는 그저 송아지 고삐를 풀어 내면서, \"어서들 집으로 가거라. 소나기가 올라.\"\\n\\n참, 먹장구름 한 장이 머리 위에 와 있다. 갑자기 사면이 소란스러워진 것 같다. 바람이 우수수 소리를 내며 지나간다. 삽시간에 주위가 보랏빛으로 변했다.\\n\\n산을 내려오는데, 떡갈나무 잎에서 빗방울 듣는 소리가 난다. 굵은 빗방울이었다. 목덜미가 선뜻 선뜻했다. 그러자, 대번에 눈앞을 가로막는 빗줄기.\\n\\n비안개 속에 원두막이 보였다. 그리로 가 비를 그을 수밖에.\\n\\n그러나, 원두막은 기둥이 기울고 지붕도 갈래갈래 찢어져 있었다. 그런 대로 비가 덜 새는 곳을 가려 소녀를 들어서게 했다.\\n\\n소녀의 입술이 파아랗게 질렸다. 어깨를 자꾸 떨었다.\\n\\n무명 겹저고리를 벗어 소녀의 어깨를 싸 주었다. 소녀는 비에 젖은 눈을 들어 한 번 쳐다보았을 뿐, 소년이 하는 대로 잠자코 있었다. 그리고는, 안고 온 꽃묶음 속에서 가지가 꺾이고 꽃이 일그러진 송이를\\n\\n골라 발 밑에 버린다. 소녀가 들어선 곳도 비가 새기 시작했다. 더 거기서 비를 그을 수 없었다.\\n\\n밖을 내다보던 소년이 무엇을 생각했는지 수수밭 쪽으로 달려간다. 세워 놓은 수숫단 속을 비집어 보더니, 옆의 수숫단을 날라다 덧세운다. 다시 속을 비집어 본다. 그리고는 이쪽을 향해 손짓을 한다.\\n\\n수숫단 속은 비는 안 새었다. 그저 어둡고 좁은 게 안 됐다. 앞에 나앉은 소년은 그냥 비를 맞아 야만 했다. 그런 소년의 어깨에서 김이 올랐다.\\n\\n소녀가 속삭이듯이, 이리 들어와 앉으라고 했다. 괜찮다고 했다. 소녀가 다시, 들어와 앉으라고 했다.\\n\\n할 수 없이 뒷걸음질을 쳤다. 그 바람에, 소녀가 안고 있는 꽃묶음이 망그러졌다. 그러나, 소녀는 상관없다고 생각했다. 비에 젖은 소년의 몸 내음새가 확 코에 끼얹혀졌다. 그러나, 고개를 돌리지 않았다. 도리\\n\\n어 소년의 몸기운으로 해서 떨리던 몸이 적이 누그러지는 느낌이었다.\\n\\n소란하던 수숫잎 소리가 뚝 그쳤다. 밖이 멀개졌다.\\n\\n수숫단 속을 벗어 나왔다. 멀지 않은 앞쪽에 햇빛이 눈부시게 내리붓고 있었다. 도랑 있는 곳까지와 보니, 엄청나게 물이 불어 있었다. 빛마저 제법 붉은 흙탕물이었다. 뛰어 건널 수가 없었다.\\n\\n소년이 등을 돌려 댔다. 소녀가 순순히 업히었다. 걷어올린 소년의 잠방이까지 물이 올라왔다.\\n\\n소녀는 \\'어머나\\'소리를 지르며 소년의 목을 끌어안았다.\\n\\n개울가에 다다르기 전에, 가을 하늘이 언제 그랬는가 싶게 구름 한 점 없이 쪽빛으로 개어 있었다.\\n\\n \\n\\n그 뒤로 소녀의 모습은 뵈지 않았다. 매일같이 개울가로 달려와 봐도 뵈지 않았다.\\n\\n학교에서 쉬는 시간에 운동장을 살피기도 했다. 남 몰래 5학년 여자 반을 엿보기도 했다. 그러나, 뵈지 않았다.\\n\\n그날도 소년은 주머니 속 흰 조약돌만 만지작거리며 개울가로 나왔다. 그랬더니, 이 쪽 개울둑에 소녀가 앉아 있는 게 아닌가.\\n\\n소년은 가슴부터 두근거렸다.\\n\\n\"그 동안 앓았다.\"\\n\\n어쩐지 소녀의 얼굴이 해쓱해져 있었다.\\n\\n\"그 날, 소나기 맞은 탓 아냐?\"\\n\\n소녀가 가만히 고개를 끄덕이었다.\\n\\n\"인제 다 났냐?\"\\n\\n\"아직도…….\"\\n\\n\"그럼, 누워 있어야지.\"\\n\\n\"하도 갑갑해서 나왔다. ……참, 그 날 재밌었어……. 그런데 그 날 어디서 이런 물이 들었는지 잘 지지 않는다.\"\\n\\n소녀가 분홍 스웨터 앞자락을 내려다본다. 거기에 검붉은 진흙물 같은 게 들어 있었다.\\n\\n소녀가 가만히 보조개를 떠올리며, \"그래 이게 무슨 물 같니?\"\\n\\n소년은 스웨터 앞자락만 바라보고 있었다.\\n\\n\"내, 생각해 냈다. 그 날, 도랑을 건너면서 내가 업힌 일이 있지? 그 때, 네 등에서 옮은 물이다.\"\\n\\n소년은 얼굴이 확 달아오름을 느꼈다.\\n\\n갈림길에서 소녀는\\n\\n\"저, 오늘 아침에 우리 집에서 대추를 땄다. 낼 제사 지내려고 …….\" 대추 한 줌을 내준다. 소년은 주춤한다.\\n\\n\"맛봐라. 우리 증조(曾祖)할아버지가 심었다는데, 아주 달다.\" 소년은 두 손을 오그려 내밀며, \"참, 알도 굵다!\"\\n\\n\"그리고 저, 우리 이번에 제사 지내고 나서 좀 있다. 집을 내주 게 됐다.\" 소년은 소녀네가 이사해 오기 전에 벌써 어른들의 이야기를 들어서, 윤 초시 손자(孫子)가 서울 서 사업에 실패해 가지고 고향에 돌아\\n\\n오지 않을 수 없게 되었다는 걸 알고 있었다. 그것이 이번에 는 고향집마저 남의 손에 넘기게 된 모양이었다.\\n\\n\"왜 그런지 난 이사 가는 게 싫어졌다. 어른들이 하는 일이니 어쩔 수 없지만…….\" 전에 없이, 소녀의\\n\\n까만 눈에 쓸쓸한 빛이 떠돌았다.\\n\\n소녀와 헤어져 돌아오는 길에, 소년은 혼잣속으로, 소녀가 이사를 간다는 말을 수없이 되뇌어 보았다. 무어 그리 안타까울 것도 서러울 것도 없었다. 그렇건만, 소년은 지금 자기가 씹고 있는 대추알의 단맛을 모르고 있었다.\\n\\n이 날 밤, 소년은 몰래 덕쇠 할아버지네 호두밭으로 갔다.\\n\\n낯에 봐 두었던 나무로 올라갔다. 그리고, 봐 두었던 가지를 향해 작대기를 내리쳤다. 호두송이 떨어지는 소리가 별나게 크게 들렸다. 가슴이 선뜩했다. 그러나 다음 순간, 굵은 호두야 많이 떨어 져라, 많이\\n\\n떨어져라, 저도 모를 힘에 이끌려 마구 작대기를 내리 치는 것이었다.\\n\\n돌아오는 길에는 열 이틀 달이 지우는 그늘만 골라 디뎠다. 그늘의 고마움을 처음 느꼈다.\\n\\n불룩한 주머니를 어루만졌다. 호두송이를 맨손으로 깠다가는 옴이 오르기 쉽다는 말 같은 건 아무렇지도 않았다. 그저 근동에서 제일 가는 이 덕쇠 할아버지네 호두를 어서 소녀에게 맛보여야 한 다는 생각만이 앞섰다.\\n\\n그러다, 아차 하는 생각이 들었다. 소녀더러 병이 좀 낫거들랑 이사 가기 전에 한 번 개울가로 나와 달라는 말을 못해 둔 것이었다. 바보 같은것, 바보 같은것.\\n\\n이튿날, 소년이 학교에서 돌아오니, 아버지가 나들이옷으로 갈아입고 닭 한 마리를 안고 있었다.\\n\\n어디 가시느냐고 물었다.\\n\\n그 말에도 대꾸도 없이, 아버지는 안고 있는 닭의 무게를 겨냥해 보면서, \"이만하면 될까?\"\\n\\n어머니가 망태기를 내주며, \"벌써 며칠째 \\'걀걀\\'하고 알 날 자리를 보던데요. 크진 않아도 살은 쪘을 거\\n\\n여요.\" 소년이 이번에는 어머니한테 아버지가 어디 가시느냐고 물어 보았다.\\n\\n\"저, 서당골 윤 초시 댁에 가신다. 제삿상에라도 놓으시라고… ….\" \"그럼, 큰 놈으로 하나 가져가지. 저\\n\\n얼룩수탉으로…….\" 이 말에, 아버지는 허허 웃고 나서, \"임마, 그래도 이게 실속이 있다.\"\\n\\n소년은 공연히 열적어, 책보를 집어던지고는 외양간으로가, 쇠잔등을 한 번 철썩 갈겼다. 쇠파리라도 잡는 체.\\n\\n \\n\\n개울물은 날로 여물어 갔다.\\n\\n소년은 갈림길에서 아래쪽으로 가 보았다. 갈밭머리에서 바라보는 서당골 마을은 쪽빛 하늘 아래 한결 가까워 보였다.\\n\\n어른들의 말이, 내일 소녀네가 양평읍으로 이사 간다는 것이었다. 거기 가서는 조그마한 가겟방 을 보게 되리라는 것이었다.\\n\\n소년은 저도 모르게 주머니 속 호두알을 만지작거리며, 한 손으로는 수없이 갈꽃을 휘어 꺾고 있었다.\\n\\n그 날 밤, 소년은 자리에 누워서도 같은 생각뿐이었다. 내일 소녀네가 이사하는 걸 가보나 어쩌 나. 가면 소녀를 보게 될까 어떨까.\\n\\n그러다가 까무룩 잠이 들었는가 하는데, \"허, 참 세상일도…….\"\\n\\n마을 갔던 아버지가 언제 돌아왔는지, \"윤 초시 댁도 말이 아니야, 그 많던 전답을 다 팔아 버리고, 대 대로 살아오던 집마저 남의 손에 넘기더니, 또 악상까지 당하는 걸 보면…….\" 남폿불 밑에서 바느질감\\n\\n을 안고 있던 어머니가, \"증손(曾孫)이라곤 계집애 그 애 하나뿐이었지요?\"\\n\\n\"그렇지, 사내 애 둘 있던 건 어려서 잃어버리고…….\" \"어쩌면 그렇게 자식복이 없을까.\"\\n\\n\"글쎄 말이지. 이번 앤 꽤 여러 날 앓는 걸 약도 변변히 못써 봤다더군. 지금 같아서 윤 초 시네도 대\\n\\n가 끊긴 셈이지.……그런데 참, 이번 계집앤 어린 것이 여간 잔망스럽지가 않아. 글 쎄, 죽기 전에 이런\\n\\n말을 했다지 않아? 자기가 죽거든 자기 입던 옷을 꼭 그대로 입혀서 묻어 달라고…….\"', metadata={'source': './files/chapter_one.txt'})]"
      ]
     },
     "execution_count": 11,
     "metadata": {},
     "output_type": "execute_result"
    }
   ],
   "source": [
    "from langchain.chat_models import ChatOpenAI\n",
    "from langchain.document_loaders import TextLoader\n",
    "\n",
    "\n",
    "# 이제 텍스트를 불러와서 어떻게 되는지 확인해보자!\n",
    "loader = TextLoader(\"./files/chapter_one.txt\", encoding=\"utf-8\")\n",
    "\n",
    "loader.load()\n"
   ]
  },
  {
   "cell_type": "code",
   "execution_count": 16,
   "metadata": {},
   "outputs": [
    {
     "data": {
      "text/plain": [
       "1"
      ]
     },
     "execution_count": 16,
     "metadata": {},
     "output_type": "execute_result"
    }
   ],
   "source": [
    "# from langchain.document_loaders import PyPDFLoader\n",
    "from langchain.document_loaders import UnstructuredFileLoader\n",
    "# UnstructuredFileLoader는 파일 유형을 고려하지 않아도 되어 편리하다.\n",
    "\n",
    "loader = UnstructuredFileLoader(\"./files/chapter_one.docx\")\n",
    "# loader = UnstructuredFileLoader(\"./files/chapter_one.pdf\")\n",
    "loader.load()\n"
   ]
  },
  {
   "cell_type": "markdown",
   "metadata": {},
   "source": [
    "이제 문서를 분할 것인데 문서를 분할하는 이유는 \n",
    "loader.load의 리턴 값을 보면 Document로 이루어진 리스트인데, \n",
    "이경우에는 전체 챕터가 하나의 문서에 들어가 있다."
   ]
  },
  {
   "cell_type": "code",
   "execution_count": 17,
   "metadata": {},
   "outputs": [
    {
     "data": {
      "text/plain": [
       "1"
      ]
     },
     "execution_count": 17,
     "metadata": {},
     "output_type": "execute_result"
    }
   ],
   "source": [
    "len(loader.load()) # 문서가 하나만 들어있는걸 확인 할 수 있다."
   ]
  },
  {
   "cell_type": "markdown",
   "metadata": {},
   "source": [
    "문서가 너 무 큰 덩어리이기 때문에, 나누는 작업을 해야한다.\n",
    "만약 문서를 Embed하거나 저장하거나 언어 모델에 주고 싶다면,,\n",
    "질문에 답해야할 때 필요한 `파일의 부분들`만을 전달할 수 있다.\n",
    "그래서 우리는 이 파일을 조각들로 나눠야한다.\n",
    "\n",
    "* 예를들어, 특정 문자열인 '소녀가 징검다리 한가운데' 부분을 찾고자 한다고 하면,\n",
    "그러면 이 문자열을 가지고 있는 문서만 언어 모델에 주면 된다.\n",
    "* 그러기 위해선 챕터 하나를 분할해야한다. 즉 문서의 모든 문자를 조각 내야한다.\n",
    "이걸 작은 조각들로 나누면, 필요한 걸 찾기 더 쉬워진다.\n",
    "* 그러면 우리가 만들 prompt도 더 짧아진다.\n",
    "왜냐하면 전체 문서나 챕터를 LLM에게 주는게 아니라, 딱 필요한 부분만 쓰는거니까.\n",
    "\n",
    "분할 하는 방법도 여러가지가 있다.\n",
    "* 우리는 chatGPT3, 4, OpenAI와 잘 작동하는 걸 사용할 것이다.\n",
    "OpenAI의 실제 함수를 사용해서!\n",
    "* 우리 텍스트의 길이를 어떤 방식으로 계산해주는 함수\n",
    "\n",
    "### Text Splitter\n",
    "아주 일반적인 방법.\n"
   ]
  },
  {
   "cell_type": "code",
   "execution_count": 38,
   "metadata": {},
   "outputs": [
    {
     "data": {
      "text/plain": [
       "[Document(page_content='소년은 개울가에서 소녀를 보자 곧 윤 초시네 증손녀(曾孫女)딸이라는 걸 알 수 있었다. 소녀는 개울에다 손을 잠그고 물장난을 하고 있는 것이다. 서울서는 이런 개울물을 보지 못하기나 한 듯 이.\\n벌써 며칠째 소녀는, 학교에서 돌아오는 길에 물장난이었다. 그런데, 어제까지 개울 기슭에서 하 더니, 오늘은 징검다리 한가운데 앉아서 하고 있다. 소년은 개울둑에 앉아 버렸다. 소녀가 비키기를 기다리자는 것이다. 요행 지나가는 사람이 있어, 소녀가 길을 비켜 주었다.\\n다음 날은 좀 늦게 개울가로 나왔다.\\n이 날은 소녀가 징검다리 한가운데 앉아 세수를 하고 있었다. 분홍 스웨터 소매를 걷어올린 목덜미가 마냥 희었다.\\n한참 세수를 하고 나더니, 이번에는 물 속을 빤히 들여다 본다. 얼굴이라도 비추어 보는 것이리 라. 갑자기 물을 움켜 낸다. 고기 새끼라도 지나가는 듯. 소녀는 소년이 개울둑에 앉아 있는 걸 아는지 모르는지 그냥 날쌔게 물만 움켜 낸다. 그러나, 번번이 허탕이다. 그대로 재미있는 양, 자꾸 물만 움킨다. 어제처럼 개울을 건너는 사람이 있어야 길 을 비킬 모양이다.', metadata={'source': './files/chapter_one.docx'}),\n",
       " Document(page_content='그러다가 소녀가 물 속에서 무엇을 하나 집어낸다. 하얀 조약돌이었다. 그리고는 벌떡 일어나 팔짝팔짝 징검다리를 뛰어 건너간다.\\n다 건너가더니만 홱 이리로 돌아서며, \"이 바보.\"\\n조약돌이 날아왔다. 소년은 저도 모르게 벌떡 일어섰다.\\n단발 머리를 나풀거리며 소녀가 막 달린다. 갈밭 사잇길로 들어섰다. 뒤에는 청량한 가을 햇살 아래 빛나는 갈꽃뿐.\\n이제 저쯤 갈밭머리로 소녀가 나타나리라. 꽤 오랜 시간이 지났다고 생각됐다. 그런데도 소녀는 나타나지 않는다. 발돋움을 했다. 그러고도 상당한 시간이 지났다고 생각됐다.\\n저 쪽 갈밭머리에 갈꽃이 한 옴큼 움직였다. 소녀가 갈꽃을 안고 있었다. 그리고, 이제는 천천한 걸음이었다. 유난히 맑은 가을 햇살이 소녀의 갈꽃머리에서 반짝거렸다. 소녀 아닌 갈꽃이 들길을 걸어가는\\n것만 같았다.\\n소년은 이 갈꽃이 아주 뵈지 않게 되기까지 그대로 서 있었다. 문득, 소녀가 던지 조약돌을 내려 다보았다. 물기가 걷혀 있었다. 소년은 조약돌을 집어 주머니에 넣었다.', metadata={'source': './files/chapter_one.docx'}),\n",
       " Document(page_content=\"소년은 이 갈꽃이 아주 뵈지 않게 되기까지 그대로 서 있었다. 문득, 소녀가 던지 조약돌을 내려 다보았다. 물기가 걷혀 있었다. 소년은 조약돌을 집어 주머니에 넣었다.\\n다음 날부터 좀더 늦게 개울가로 나왔다. 소녀의 그림자가 뵈지 않았다. 다행이었다. 그러나, 이상한 일이었다. 소녀의 그림자가 뵈지 않는 날이 계속될수록 소년의 가슴 한 구석에는 어딘\\n가 허전함이 자리 잡는 것이었다. 주머니 속 조약돌을 주무르는 버릇이 생겼다.\\n그러한 어떤 날, 소년은 전에 소녀가 앉아 물장난을 하던 징검다리 한가운데에 앉아 보았다. 물 속에 손을 잠갔다. 세수를 하였다. 물 속을 들여다보았다. 검게 탄 얼굴이 그대로 비치었다. 싫었다.\\n소년은 두 손으로 물 속의 얼굴을 움키었다. 몇 번이고 움키었다. 그러다가 깜짝 놀라 일어나고 말았다. 소녀가 이리로 건너오고 있지 않느냐.'숨어서 내가 하는 일을 엿보고 있었구나.' 소년은 달리기를 시작했다. 디딤돌을 헛디뎠다. 한 발이 물 속에 빠졌다. 더 달렸다.\", metadata={'source': './files/chapter_one.docx'}),\n",
       " Document(page_content='몸을 가릴 데가 있어 줬으면 좋겠다. 이 쪽 길에는 갈밭도 없다. 메밀밭이다. 전에 없이 메밀꽃 냄새가 짜릿하게 코를 찌른다고 생각됐다. 미간이 아찔했다. 찝찔한 액체가 입술에 흘러들었다. 코 피였다.\\n소년은 한 손으로 코피를 훔쳐내면서 그냥 달렸다. 어디선가 \\'바보, 바보\\' 하는 소리가 자꾸만 뒤따라 오는 것 같았다.\\n토요일이었다.\\n개울가에 이르니, 며칠째 보이지 않던 소녀가 건너편 가에 앉아 물장난을 하고 있었다. 모르는 체 징검다리를 건너기 시작했다. 얼마 전에 소녀 앞에서 한 번 실수를 했을 뿐, 여태 큰길 가듯이 건너던 징검\\n다리를 오늘은 조심스럽게 건넌다.\\n\"얘.\"\\n못 들은 체했다. 둑 위로 올라섰다.\\n\"얘, 이게 무슨 조개지?\"\\n자기도 모르게 돌아섰다. 소녀의 맑고 검은 눈과 마주쳤다. 얼른 소녀의 손바닥으로 눈을 떨구었다.\\n\"비단조개.\"\\n\"이름도 참 곱다.\"\\n갈림길에 왔다. 여기서 소녀는 아래편으로 한 삼 마장쯤, 소년은 우대로 한 십 리 가까운 길을 가야 한다.\\n소녀가 걸음을 멈추며, \"너, 저 산 너머에 가 본 일 있니?\"\\n벌 끝을 가리켰다.\\n\"없다.\"\\n\"우리, 가보지 않으련? 시골 오니까 혼자서 심심해 못 견디겠다.\" \"저래 봬도 멀다.\"', metadata={'source': './files/chapter_one.docx'}),\n",
       " Document(page_content='벌 끝을 가리켰다.\\n\"없다.\"\\n\"우리, 가보지 않으련? 시골 오니까 혼자서 심심해 못 견디겠다.\" \"저래 봬도 멀다.\"\\n\"멀면 얼마나 멀기에? 서울 있을 땐 사뭇 먼 데까지 소풍 갔었다.\" 소녀의 눈이 금새 \\'바보,바보,\\'할 것 만 같았다.\\n논 사잇길로 들어섰다. 벼 가을걷이하는 곁을 지났다.\\n허수아비가 서 있었다. 소년이 새끼줄을 흔들었다. 참새가 몇 마리 날아간다. \\'참, 오늘은 일찍 집으로 돌아가 텃논의 참새를 봐야 할걸.\\' 하는 생각이 든다.\\n\"야, 재밌다!\"\\n소녀가 허수아비 줄을 잡더니 흔들어 댄다. 허수아비가 자꾸 우쭐거리며 춤을 춘다. 소녀의 왼쪽 볼에 살포시 보조개가 패었다.\\n저만큼 허수아비가 또 서 있다. 소녀가 그리로 달려간다. 그 뒤를 소년도 달렸다. 오늘 같은 날 은 일찍 집으로 돌아가 집안일을 도와야 한다는 생각을 잊어버리기라도 하려는 듯이.\\n소녀의 곁을 스쳐 그냥 달린다. 메뚜기가 따끔따끔 얼굴에 와 부딪친다. 쪽빛으로 한껏 갠 가을 하늘이 소년의 눈앞에서 맴을 돈다. 어지럽다. 저놈의 독수리, 저놈의 독수리, 저놈의 독수리가 맴 을 돌고 있기\\n때문이다.', metadata={'source': './files/chapter_one.docx'}),\n",
       " Document(page_content='때문이다.\\n돌아다보니, 소녀는 지금 자기가 지나쳐 온 허수아비를 흔들고 있다. 좀 전 허수아비보다 더 우쭐거린다.\\n논이 끝난 곳에 도랑이 하나 있었다. 소녀가 먼저 뛰어 건넜다.\\n거기서부터 산 밑까지는 밭이었다.\\n수숫단을 세워 놓은 밭머리를 지났다.\\n\"저게 뭐니?\"\\n\"원두막.\"\\n\"여기 참외, 맛있니?\"\\n\"그럼, 참외 맛도 좋지만 수박 맛은 더 좋다.\"\\n\"하나 먹어 봤으면.\"\\n소년이 참외 그루에 심은 무우밭으로 들어가, 무우 두 밑을 뽑아 왔다. 아직 밑이 덜 들어 있었다. 잎을 비틀어 팽개친 후, 소녀에게 한 개 건넨다. 그리고는 이렇게 먹어야 한다는 듯이, 먼저 대강이를 한\\n입 베물어 낸 다음, 손톱으로 한 돌이 껍질을 벗겨 우쩍 깨문다.\\n소녀도 따라 했다. 그러나, 세 입도 못 먹고, \"아, 맵고 지려.\"\\n하며 집어던지고 만다.\\n\"참, 맛없어 못 먹겠다.\"\\n소년이 더 멀리 팽개쳐 버렸다.\\n산이 가까워졌다.\\n단풍이 눈에 따가웠다.\\n\"야아!\"\\n소녀가 산을 향해 달려갔다. 이번은 소년이 뒤따라 달리지 않았다. 그러고도 곧 소녀보다 더 많은 꽃을\\n꺾었다.\\n\"이게 들국화, 이게 싸리꽃, 이게 도라지꽃,…….\"', metadata={'source': './files/chapter_one.docx'}),\n",
       " Document(page_content='\"야아!\"\\n소녀가 산을 향해 달려갔다. 이번은 소년이 뒤따라 달리지 않았다. 그러고도 곧 소녀보다 더 많은 꽃을\\n꺾었다.\\n\"이게 들국화, 이게 싸리꽃, 이게 도라지꽃,…….\"\\n\"도라지꽃이 이렇게 예쁜 줄은 몰랐네. 난 보랏빛이 좋아! …… 그런데, 이 양산 같이 생긴 노란 꽃이\\n뭐지?\"\\n\"마타리꽃.\"\\n소녀는 마타리꽃을 양산 받듯이 해 보인다. 약간 상기된 얼굴에 살포시 보조개를 떠올리며.다시 소년은 꽃 한 옴큼을 꺾어 왔다. 싱싱한 꽃가지만 골라 소녀에게 건넨다.\\n그러나 소녀는\\n\"하나도 버리지 마라.\"\\n산마루께로 올라갔다.\\n맞은편 골짜기에 오순도순 초가집이 몇 모여 있었다.\\n누가 말할 것도 아닌데, 바위에 나란히 걸터앉았다. 유달리 주위가 조용해진 것 같았다. 따가운 가을 햇살만이 말라가는 풀 냄새를 퍼뜨리고 있었다.\\n\"저건 또 무슨 꽃이지?\"\\n적잖이 비탈진 곳에 칡덩굴이 엉키어 꽃을 달고 있었다.\\n\"꼭 등꽃 같네. 서울 우리 학교에 큰 등나무가 있었단다. 저 꽃 을 보니까 등나무 밑에서 놀 던 동무들 생각이 난다.\"', metadata={'source': './files/chapter_one.docx'}),\n",
       " Document(page_content='적잖이 비탈진 곳에 칡덩굴이 엉키어 꽃을 달고 있었다.\\n\"꼭 등꽃 같네. 서울 우리 학교에 큰 등나무가 있었단다. 저 꽃 을 보니까 등나무 밑에서 놀 던 동무들 생각이 난다.\"\\n소녀가 조용히 일어나 비탈진 곳으로 간다. 꽃송이가 많이 달린 줄기를 잡고 끊기 시작한다. 좀처럼 끊어지지 않는다. 안간힘을 쓰다가 그만 미끄러지고 만다. 칡덩굴을 그러쥐었다.\\n소년이 놀라 달려갔다. 소녀가 손을 내밀었다. 손을 잡아 이끌어 올리며, 소년은 제가 꺾어다 줄 것을 잘못했다고 뉘우친다. 소녀의 오른쪽 무릎에 핏방울이 내맺혔다. 소년은 저도 모르게 생채기 에 입술을\\n가져다 대고 빨기 시작했다. 그러다가, 무슨 생각을 했는지 홱 일어나 저 쪽으로 달려간 다.\\n좀 만에 숨이 차 돌아온 소년은\\n\"이걸 바르면 낫는다.\"\\n송진을 생채기에다 문질러 바르고는 그 달음으로 칡덩굴 있는 데로 내려가, 꽃 많이 달린 몇 줄기를 이빨로 끊어 가지고 올라온다. 그리고는, \"저기 송아지가 있다. 그리 가 보자.\"\\n누렁송아지였다. 아직 코뚜레도 꿰지 않았다.\\n소년이 고삐를 바투 잡아 쥐고 등을 긁어 주는 체 훌쩍 올라탔다. 송아지가 껑충거리며 돌아간 다.', metadata={'source': './files/chapter_one.docx'}),\n",
       " Document(page_content='누렁송아지였다. 아직 코뚜레도 꿰지 않았다.\\n소년이 고삐를 바투 잡아 쥐고 등을 긁어 주는 체 훌쩍 올라탔다. 송아지가 껑충거리며 돌아간 다.\\n소녀의 흰 얼굴이, 분홍 스웨터가, 남색 스커트가, 안고 있는 꽃과 함께 범벅이 된다. 모두가 하 나의 큰 꽃묶음 같다. 어지럽다. 그러나, 내리지 않으리라. 자랑스러웠다. 이것만은 소녀가 흉내 내지 못할, 자\\n기 혼자만이 할 수 있는 일인 것이다.\\n\"너희, 예서 뭣들 하느냐?\"\\n농부(農夫)하나가 억새풀 사이로 올라왔다.\\n송아지 등에서 뛰어내렸다. 어린 송아지를 타서 허리가 상하면 어쩌느냐고 꾸지람을 들을 것만 같다.\\n그런데, 나룻이 긴 농부는 소녀 편을 한 번 훑어보고는 그저 송아지 고삐를 풀어 내면서, \"어서들 집으로 가거라. 소나기가 올라.\"\\n참, 먹장구름 한 장이 머리 위에 와 있다. 갑자기 사면이 소란스러워진 것 같다. 바람이 우수수 소리를 내며 지나간다. 삽시간에 주위가 보랏빛으로 변했다.\\n산을 내려오는데, 떡갈나무 잎에서 빗방울 듣는 소리가 난다. 굵은 빗방울이었다. 목덜미가 선뜻 선뜻했다. 그러자, 대번에 눈앞을 가로막는 빗줄기.\\n비안개 속에 원두막이 보였다. 그리로 가 비를 그을 수밖에.', metadata={'source': './files/chapter_one.docx'}),\n",
       " Document(page_content='비안개 속에 원두막이 보였다. 그리로 가 비를 그을 수밖에.\\n그러나, 원두막은 기둥이 기울고 지붕도 갈래갈래 찢어져 있었다. 그런 대로 비가 덜 새는 곳을 가려 소녀를 들어서게 했다.\\n소녀의 입술이 파아랗게 질렸다. 어깨를 자꾸 떨었다.\\n무명 겹저고리를 벗어 소녀의 어깨를 싸 주었다. 소녀는 비에 젖은 눈을 들어 한 번 쳐다보았을 뿐, 소년이 하는 대로 잠자코 있었다. 그리고는, 안고 온 꽃묶음 속에서 가지가 꺾이고 꽃이 일그러진 송이를\\n골라 발 밑에 버린다. 소녀가 들어선 곳도 비가 새기 시작했다. 더 거기서 비를 그을 수 없었다.\\n밖을 내다보던 소년이 무엇을 생각했는지 수수밭 쪽으로 달려간다. 세워 놓은 수숫단 속을 비집어 보더니, 옆의 수숫단을 날라다 덧세운다. 다시 속을 비집어 본다. 그리고는 이쪽을 향해 손짓을 한다.\\n수숫단 속은 비는 안 새었다. 그저 어둡고 좁은 게 안 됐다. 앞에 나앉은 소년은 그냥 비를 맞아 야만 했다. 그런 소년의 어깨에서 김이 올랐다.\\n소녀가 속삭이듯이, 이리 들어와 앉으라고 했다. 괜찮다고 했다. 소녀가 다시, 들어와 앉으라고 했다.', metadata={'source': './files/chapter_one.docx'}),\n",
       " Document(page_content=\"소녀가 속삭이듯이, 이리 들어와 앉으라고 했다. 괜찮다고 했다. 소녀가 다시, 들어와 앉으라고 했다.\\n할 수 없이 뒷걸음질을 쳤다. 그 바람에, 소녀가 안고 있는 꽃묶음이 망그러졌다. 그러나, 소녀는 상관없다고 생각했다. 비에 젖은 소년의 몸 내음새가 확 코에 끼얹혀졌다. 그러나, 고개를 돌리지 않았다. 도리\\n어 소년의 몸기운으로 해서 떨리던 몸이 적이 누그러지는 느낌이었다.\\n소란하던 수숫잎 소리가 뚝 그쳤다. 밖이 멀개졌다.\\n수숫단 속을 벗어 나왔다. 멀지 않은 앞쪽에 햇빛이 눈부시게 내리붓고 있었다. 도랑 있는 곳까지와 보니, 엄청나게 물이 불어 있었다. 빛마저 제법 붉은 흙탕물이었다. 뛰어 건널 수가 없었다.\\n소년이 등을 돌려 댔다. 소녀가 순순히 업히었다. 걷어올린 소년의 잠방이까지 물이 올라왔다.\\n소녀는 '어머나'소리를 지르며 소년의 목을 끌어안았다.\\n개울가에 다다르기 전에, 가을 하늘이 언제 그랬는가 싶게 구름 한 점 없이 쪽빛으로 개어 있었다.\\n그 뒤로 소녀의 모습은 뵈지 않았다. 매일같이 개울가로 달려와 봐도 뵈지 않았다.\\n학교에서 쉬는 시간에 운동장을 살피기도 했다. 남 몰래 5학년 여자 반을 엿보기도 했다. 그러나, 뵈지 않았다.\", metadata={'source': './files/chapter_one.docx'}),\n",
       " Document(page_content='학교에서 쉬는 시간에 운동장을 살피기도 했다. 남 몰래 5학년 여자 반을 엿보기도 했다. 그러나, 뵈지 않았다.\\n그날도 소년은 주머니 속 흰 조약돌만 만지작거리며 개울가로 나왔다. 그랬더니, 이 쪽 개울둑에 소녀가 앉아 있는 게 아닌가.\\n소년은 가슴부터 두근거렸다.\\n\"그 동안 앓았다.\"\\n어쩐지 소녀의 얼굴이 해쓱해져 있었다.\\n\"그 날, 소나기 맞은 탓 아냐?\"\\n소녀가 가만히 고개를 끄덕이었다.\\n\"인제 다 났냐?\"\\n\"아직도…….\"\\n\"그럼, 누워 있어야지.\"\\n\"하도 갑갑해서 나왔다. ……참, 그 날 재밌었어……. 그런데 그 날 어디서 이런 물이 들었는지 잘 지지 않는다.\"\\n소녀가 분홍 스웨터 앞자락을 내려다본다. 거기에 검붉은 진흙물 같은 게 들어 있었다.\\n소녀가 가만히 보조개를 떠올리며, \"그래 이게 무슨 물 같니?\"\\n소년은 스웨터 앞자락만 바라보고 있었다.\\n\"내, 생각해 냈다. 그 날, 도랑을 건너면서 내가 업힌 일이 있지? 그 때, 네 등에서 옮은 물이다.\"\\n소년은 얼굴이 확 달아오름을 느꼈다.\\n갈림길에서 소녀는\\n\"저, 오늘 아침에 우리 집에서 대추를 땄다. 낼 제사 지내려고 …….\" 대추 한 줌을 내준다. 소년은 주춤한다.', metadata={'source': './files/chapter_one.docx'}),\n",
       " Document(page_content='소년은 얼굴이 확 달아오름을 느꼈다.\\n갈림길에서 소녀는\\n\"저, 오늘 아침에 우리 집에서 대추를 땄다. 낼 제사 지내려고 …….\" 대추 한 줌을 내준다. 소년은 주춤한다.\\n\"맛봐라. 우리 증조(曾祖)할아버지가 심었다는데, 아주 달다.\" 소년은 두 손을 오그려 내밀며, \"참, 알도 굵다!\"\\n\"그리고 저, 우리 이번에 제사 지내고 나서 좀 있다. 집을 내주 게 됐다.\" 소년은 소녀네가 이사해 오기 전에 벌써 어른들의 이야기를 들어서, 윤 초시 손자(孫子)가 서울 서 사업에 실패해 가지고 고향에 돌아\\n오지 않을 수 없게 되었다는 걸 알고 있었다. 그것이 이번에 는 고향집마저 남의 손에 넘기게 된 모양이었다.\\n\"왜 그런지 난 이사 가는 게 싫어졌다. 어른들이 하는 일이니 어쩔 수 없지만…….\" 전에 없이, 소녀의\\n까만 눈에 쓸쓸한 빛이 떠돌았다.\\n소녀와 헤어져 돌아오는 길에, 소년은 혼잣속으로, 소녀가 이사를 간다는 말을 수없이 되뇌어 보았다. 무어 그리 안타까울 것도 서러울 것도 없었다. 그렇건만, 소년은 지금 자기가 씹고 있는 대추알의 단맛을 모르고 있었다.\\n이 날 밤, 소년은 몰래 덕쇠 할아버지네 호두밭으로 갔다.', metadata={'source': './files/chapter_one.docx'}),\n",
       " Document(page_content='이 날 밤, 소년은 몰래 덕쇠 할아버지네 호두밭으로 갔다.\\n낯에 봐 두었던 나무로 올라갔다. 그리고, 봐 두었던 가지를 향해 작대기를 내리쳤다. 호두송이 떨어지는 소리가 별나게 크게 들렸다. 가슴이 선뜩했다. 그러나 다음 순간, 굵은 호두야 많이 떨어 져라, 많이\\n떨어져라, 저도 모를 힘에 이끌려 마구 작대기를 내리 치는 것이었다.\\n돌아오는 길에는 열 이틀 달이 지우는 그늘만 골라 디뎠다. 그늘의 고마움을 처음 느꼈다.\\n불룩한 주머니를 어루만졌다. 호두송이를 맨손으로 깠다가는 옴이 오르기 쉽다는 말 같은 건 아무렇지도 않았다. 그저 근동에서 제일 가는 이 덕쇠 할아버지네 호두를 어서 소녀에게 맛보여야 한 다는 생각만이 앞섰다.\\n그러다, 아차 하는 생각이 들었다. 소녀더러 병이 좀 낫거들랑 이사 가기 전에 한 번 개울가로 나와 달라는 말을 못해 둔 것이었다. 바보 같은것, 바보 같은것.\\n이튿날, 소년이 학교에서 돌아오니, 아버지가 나들이옷으로 갈아입고 닭 한 마리를 안고 있었다.\\n어디 가시느냐고 물었다.\\n그 말에도 대꾸도 없이, 아버지는 안고 있는 닭의 무게를 겨냥해 보면서, \"이만하면 될까?\"', metadata={'source': './files/chapter_one.docx'}),\n",
       " Document(page_content='어디 가시느냐고 물었다.\\n그 말에도 대꾸도 없이, 아버지는 안고 있는 닭의 무게를 겨냥해 보면서, \"이만하면 될까?\"\\n어머니가 망태기를 내주며, \"벌써 며칠째 \\'걀걀\\'하고 알 날 자리를 보던데요. 크진 않아도 살은 쪘을 거\\n여요.\" 소년이 이번에는 어머니한테 아버지가 어디 가시느냐고 물어 보았다.\\n\"저, 서당골 윤 초시 댁에 가신다. 제삿상에라도 놓으시라고… ….\" \"그럼, 큰 놈으로 하나 가져가지. 저\\n얼룩수탉으로…….\" 이 말에, 아버지는 허허 웃고 나서, \"임마, 그래도 이게 실속이 있다.\"\\n소년은 공연히 열적어, 책보를 집어던지고는 외양간으로가, 쇠잔등을 한 번 철썩 갈겼다. 쇠파리라도 잡는 체.\\n개울물은 날로 여물어 갔다.\\n소년은 갈림길에서 아래쪽으로 가 보았다. 갈밭머리에서 바라보는 서당골 마을은 쪽빛 하늘 아래 한결 가까워 보였다.\\n어른들의 말이, 내일 소녀네가 양평읍으로 이사 간다는 것이었다. 거기 가서는 조그마한 가겟방 을 보게 되리라는 것이었다.\\n소년은 저도 모르게 주머니 속 호두알을 만지작거리며, 한 손으로는 수없이 갈꽃을 휘어 꺾고 있었다.', metadata={'source': './files/chapter_one.docx'}),\n",
       " Document(page_content='소년은 저도 모르게 주머니 속 호두알을 만지작거리며, 한 손으로는 수없이 갈꽃을 휘어 꺾고 있었다.\\n그 날 밤, 소년은 자리에 누워서도 같은 생각뿐이었다. 내일 소녀네가 이사하는 걸 가보나 어쩌 나. 가면 소녀를 보게 될까 어떨까.\\n그러다가 까무룩 잠이 들었는가 하는데, \"허, 참 세상일도…….\"\\n마을 갔던 아버지가 언제 돌아왔는지, \"윤 초시 댁도 말이 아니야, 그 많던 전답을 다 팔아 버리고, 대 대로 살아오던 집마저 남의 손에 넘기더니, 또 악상까지 당하는 걸 보면…….\" 남폿불 밑에서 바느질감\\n을 안고 있던 어머니가, \"증손(曾孫)이라곤 계집애 그 애 하나뿐이었지요?\"\\n\"그렇지, 사내 애 둘 있던 건 어려서 잃어버리고…….\" \"어쩌면 그렇게 자식복이 없을까.\"\\n\"글쎄 말이지. 이번 앤 꽤 여러 날 앓는 걸 약도 변변히 못써 봤다더군. 지금 같아서 윤 초 시네도 대\\n가 끊긴 셈이지.……그런데 참, 이번 계집앤 어린 것이 여간 잔망스럽지가 않아. 글 쎄, 죽기 전에 이런\\n말을 했다지 않아? 자기가 죽거든 자기 입던 옷을 꼭 그대로 입혀서 묻어 달라고…….\"', metadata={'source': './files/chapter_one.docx'})]"
      ]
     },
     "execution_count": 38,
     "metadata": {},
     "output_type": "execute_result"
    }
   ],
   "source": [
    "from langchain.chat_models import ChatOpenAI\n",
    "from langchain.document_loaders import UnstructuredFileLoader\n",
    "# from langchain.text_splitter import RecursiveCharacterTextSplitter\n",
    "from langchain.text_splitter import CharacterTextSplitter\n",
    "\n",
    "# splitter = RecursiveCharacterTextSplitter(\n",
    "#     chunk_size=200,\n",
    "#     chunk_overlap=50,\n",
    "# )\n",
    "splitter = CharacterTextSplitter(\n",
    "    separator=\"\\n\",\n",
    "    chunk_size=600,\n",
    "    chunk_overlap=100,\n",
    ")\n",
    "\n",
    "loader = UnstructuredFileLoader(\"./files/chapter_one.docx\")\n",
    "\n",
    "\n",
    "# 첫번쨰 방법\n",
    "# docs = loader.load()\n",
    "# splitter.split_documents(docs)\n",
    "\n",
    "# 다른 방법\n",
    "loader.load_and_split(text_splitter=splitter)\n",
    "\n"
   ]
  },
  {
   "cell_type": "markdown",
   "metadata": {},
   "source": [
    "## 6.2 Tiktoken\n",
    "기본적으로, 이 모든 splitter들은 텍스트의 length를 계산해서, 한 덩어리(chunk) 크기를 알아내서 그 작업에 파이썬 표준 라이브러리가 지원하는 표준 len함수를 사용하지 여기서 나만의 len함수를 명시적으로 설정할 수 있다.\n",
    "```python\n",
    "splitter = CharacterTextSplitter(\n",
    "    separator=\"\\n\",\n",
    "    chunk_size=600,\n",
    "    chunk_overlap=100,\n",
    "    length_function=len,\n",
    ")\n",
    "```"
   ]
  },
  {
   "cell_type": "code",
   "execution_count": null,
   "metadata": {},
   "outputs": [],
   "source": [
    "splitter = CharacterTextSplitter.from_tiktoken_encoder(\n",
    "    separator=\"\\n\",\n",
    "    chunk_size=600,\n",
    "    chunk_overlap=100,\n",
    ")\n",
    "loader = UnstructuredFileLoader(\"./files/chapter_one.docx\")\n",
    "\n",
    "\n",
    "# 첫번쨰 방법\n",
    "# docs = loader.load()\n",
    "# splitter.split_documents(docs)\n",
    "\n",
    "# 다른 방법\n",
    "loader.load_and_split(text_splitter=splitter)\n",
    "\n",
    "\n"
   ]
  },
  {
   "cell_type": "markdown",
   "metadata": {},
   "source": [
    "## 6.3 Vectors\n",
    "\n",
    "### Embedding에 대해 알아보자.\n",
    "쉽게 말하면 사람이 읽는 텍스트를 `컴퓨터가 이해할 수 있는 숫자들로 변환하는 작업`이다.\n",
    "\n",
    "### Vetor\n",
    "정확히는 vectorization(벡터화) 작업을 할 것이다.\n",
    "우리가 만든 문서마다 각각의 벡터를 만들어 줄 것이다.\n",
    "나중에 위에서 split처리를 해준 문서마다 embed작업을 할 것이다.\n",
    "n 차원 Vector : 추천 시스템에 적합. >>chatGPT에서는 우리가 원하는 것을 찾아주기 위해서 사용할 것이다.\n"
   ]
  },
  {
   "cell_type": "markdown",
   "metadata": {},
   "source": [
    "## 6.4 Vector Store"
   ]
  },
  {
   "cell_type": "code",
   "execution_count": 60,
   "metadata": {},
   "outputs": [],
   "source": [
    "from langchain.chat_models import ChatOpenAI\n",
    "from langchain.document_loaders import UnstructuredFileLoader\n",
    "from langchain.text_splitter import CharacterTextSplitter\n",
    "from langchain.vectorstores import Chroma\n",
    "from langchain.embeddings import OpenAIEmbeddings, CacheBackedEmbeddings\n",
    "from langchain.storage import LocalFileStore\n",
    "\n",
    "\n",
    "\n",
    "splitter = CharacterTextSplitter.from_tiktoken_encoder(\n",
    "    separator=\"\\n\",\n",
    "    chunk_size=600,\n",
    "    chunk_overlap=100,\n",
    ")\n",
    "\n",
    "loader = UnstructuredFileLoader(\"./files/chapter_one.docx\")\n",
    "\n",
    "docs = loader.load_and_split(text_splitter=splitter)\n",
    "\n",
    "embeddings = OpenAIEmbeddings()\n",
    "\n",
    "cache_dir = LocalFileStore(\"./.cache/\")\n",
    "cached_embeddings = CacheBackedEmbeddings.from_bytes_store(\n",
    "    embeddings, cache_dir \n",
    ")\n",
    "\n",
    "\n",
    "vectorstore = Chroma.from_documents(docs, cached_embeddings)\n"
   ]
  },
  {
   "cell_type": "code",
   "execution_count": 61,
   "metadata": {},
   "outputs": [
    {
     "data": {
      "text/plain": [
       "[Document(page_content='소년은 개울가에서 소녀를 보자 곧 윤 초시네 증손녀(曾孫女)딸이라는 걸 알 수 있었다. 소녀는 개울에다 손을 잠그고 물장난을 하고 있는 것이다. 서울서는 이런 개울물을 보지 못하기나 한 듯 이.\\n벌써 며칠째 소녀는, 학교에서 돌아오는 길에 물장난이었다. 그런데, 어제까지 개울 기슭에서 하 더니, 오늘은 징검다리 한가운데 앉아서 하고 있다. 소년은 개울둑에 앉아 버렸다. 소녀가 비키기를 기다리자는 것이다. 요행 지나가는 사람이 있어, 소녀가 길을 비켜 주었다.\\n다음 날은 좀 늦게 개울가로 나왔다.', metadata={'source': './files/chapter_one.docx'}),\n",
       " Document(page_content='소년은 개울가에서 소녀를 보자 곧 윤 초시네 증손녀(曾孫女)딸이라는 걸 알 수 있었다. 소녀는 개울에다 손을 잠그고 물장난을 하고 있는 것이다. 서울서는 이런 개울물을 보지 못하기나 한 듯 이.\\n벌써 며칠째 소녀는, 학교에서 돌아오는 길에 물장난이었다. 그런데, 어제까지 개울 기슭에서 하 더니, 오늘은 징검다리 한가운데 앉아서 하고 있다. 소년은 개울둑에 앉아 버렸다. 소녀가 비키기를 기다리자는 것이다. 요행 지나가는 사람이 있어, 소녀가 길을 비켜 주었다.\\n다음 날은 좀 늦게 개울가로 나왔다.', metadata={'source': './files/chapter_one.docx'}),\n",
       " Document(page_content='소년은 개울가에서 소녀를 보자 곧 윤 초시네 증손녀(曾孫女)딸이라는 걸 알 수 있었다. 소녀는 개울에다 손을 잠그고 물장난을 하고 있는 것이다. 서울서는 이런 개울물을 보지 못하기나 한 듯 이.\\n벌써 며칠째 소녀는, 학교에서 돌아오는 길에 물장난이었다. 그런데, 어제까지 개울 기슭에서 하 더니, 오늘은 징검다리 한가운데 앉아서 하고 있다. 소년은 개울둑에 앉아 버렸다. 소녀가 비키기를 기다리자는 것이다. 요행 지나가는 사람이 있어, 소녀가 길을 비켜 주었다.\\n다음 날은 좀 늦게 개울가로 나왔다.', metadata={'source': './files/chapter_one.docx'}),\n",
       " Document(page_content='소년은 개울가에서 소녀를 보자 곧 윤 초시네 증손녀(曾孫女)딸이라는 걸 알 수 있었다. 소녀는 개울에다 손을 잠그고 물장난을 하고 있는 것이다. 서울서는 이런 개울물을 보지 못하기나 한 듯 이.\\n벌써 며칠째 소녀는, 학교에서 돌아오는 길에 물장난이었다. 그런데, 어제까지 개울 기슭에서 하 더니, 오늘은 징검다리 한가운데 앉아서 하고 있다. 소년은 개울둑에 앉아 버렸다. 소녀가 비키기를 기다리자는 것이다. 요행 지나가는 사람이 있어, 소녀가 길을 비켜 주었다.\\n다음 날은 좀 늦게 개울가로 나왔다.', metadata={'source': './files/chapter_one.docx'})]"
      ]
     },
     "execution_count": 61,
     "metadata": {},
     "output_type": "execute_result"
    }
   ],
   "source": [
    "results = vectorstore.similarity_search(\"소년은 개울가에서 무엇을 했어?\")\n",
    "results"
   ]
  },
  {
   "cell_type": "markdown",
   "metadata": {},
   "source": [
    "## 6.5 Langsmith\n",
    "Langsmith설정 방법\n"
   ]
  },
  {
   "cell_type": "markdown",
   "metadata": {},
   "source": [
    "## 6.6 RetrievalQA\n",
    "\n",
    "마침내 우리는 document를 이용해 LLM에게 질문해 볼 시간이 되었다!\n",
    "지금은 off-the-shelf chain들을 사용할 것이다.\n",
    "우리만의 chain을 LangChain Expression Language로 만들거다.\n"
   ]
  },
  {
   "cell_type": "code",
   "execution_count": 3,
   "metadata": {},
   "outputs": [
    {
     "name": "stderr",
     "output_type": "stream",
     "text": [
      "d:\\JUNGWON\\Developments\\Study\\Python\\fullstack-gpt\\env\\Lib\\site-packages\\langchain\\chains\\llm.py:349: UserWarning: The apply_and_parse method is deprecated, instead pass an output parser directly to LLMChain.\n",
      "  warnings.warn(\n"
     ]
    },
    {
     "data": {
      "text/plain": [
       "'소년은 개울둑에 앉아 버렸다. 소녀가 비키기를 기다리고 있었다.'"
      ]
     },
     "execution_count": 3,
     "metadata": {},
     "output_type": "execute_result"
    }
   ],
   "source": [
    "from langchain.chat_models import ChatOpenAI\n",
    "from langchain.document_loaders import UnstructuredFileLoader\n",
    "from langchain.text_splitter import CharacterTextSplitter\n",
    "from langchain.vectorstores import FAISS\n",
    "# from langchain.vectorstores import Chroma\n",
    "from langchain.embeddings import OpenAIEmbeddings, CacheBackedEmbeddings\n",
    "from langchain.storage import LocalFileStore\n",
    "from langchain.chains import RetrievalQA\n",
    "\n",
    "llm = ChatOpenAI(temperature=0.1)\n",
    "\n",
    "splitter = CharacterTextSplitter.from_tiktoken_encoder(\n",
    "    separator=\"\\n\",\n",
    "    chunk_size=600,\n",
    "    chunk_overlap=100,\n",
    ")\n",
    "\n",
    "loader = UnstructuredFileLoader(\"./files/chapter_one.docx\")\n",
    "\n",
    "docs = loader.load_and_split(text_splitter=splitter)\n",
    "\n",
    "embeddings = OpenAIEmbeddings()\n",
    "\n",
    "cache_dir = LocalFileStore(\"./.cache/\")\n",
    "cached_embeddings = CacheBackedEmbeddings.from_bytes_store(\n",
    "    embeddings, cache_dir \n",
    ")\n",
    "\n",
    "\n",
    "vectorstore = Chroma.from_documents(docs, cached_embeddings)\n",
    "chain = RetrievalQA.from_chain_type(\n",
    "    llm=llm,\n",
    "    chain_type=\"map_rerank\",\n",
    "    # chain_type=\"refine\",\n",
    "    # chain_type=\"stuff\",\n",
    "    retriever=vectorstore.as_retriever()\n",
    ")\n",
    "chain.run(\"소년은 개울가에 무엇을 했지?\")"
   ]
  },
  {
   "cell_type": "markdown",
   "metadata": {},
   "source": [
    "### 그외 chain_type\n",
    "#### stuff\n",
    "내가 찾은 document들로 prompt를 stuff(채우기)하는데 사용한다는 뜻..\n",
    "#### Refine (정제, 가다듬기)\n",
    "query질문을 통해 관련된 document를 얻어서 각각의 document를 읽으면서, 질문에 대한 답변 생성을 시도.\n",
    "그 작업을 반복하면서 만나는 모든 document를 통해  question을 개선 시킨다.\n",
    "`요금이 비싸다.`\n",
    "document가 10개 있다만 각각 10개의 개별 질의를 통하기 때문이다.\n",
    "#### Map reduce documents chain\n",
    "query를 입력하면, documents들을 얻어서 각각에 대한 요약 작업을 하게된다.\n",
    "그리고  각각의 요약본을 LLM에게 전달한다.\n",
    "굉장히 크고 많은 연산(operation)들이 수행된다.\n",
    "\n",
    "#### Map re-rank\n",
    "query시 각 document를 통해 답변을 생성하고, `각 답변에 점수를 매긴다`.\n",
    "최종적으로` 가장 높은 점수를 획득한 답변과 그 점수를 함께 반환`해준다.\n",
    "\n",
    "#### RetrivalQA를 사용할떄의 장점 중 하나\n",
    "* chain_type을 손쉽게 바꿀수 있다.\n",
    "* Chroma가 나의 컴퓨터에서 실행되는 vector store라는 점이다.\n",
    "원한다면 `FAISS`도 사용할 수 있다. 이유는 모르겠지만 가끔 이게 더 좋은 성능을 보일때도 있다....\n"
   ]
  },
  {
   "cell_type": "markdown",
   "metadata": {},
   "source": [
    "# 6.7 Recap\n",
    "이떄까지 배운 것을 복습해보자.\n",
    "Stuff Cahin, MapReduce Chain을 LCCE로 직접 만들어보자.\n",
    "* 이번 섹션 요약\n",
    "    * `file load`\n",
    "        * text loader, `UnstructuredFileLoader`에 대해 살펴보았다. 이걸로 다양한 file들을 load할 수 있다.\n",
    "    txt, doc, pdf, html, excel 등등...\n",
    "    * file 분할 (`split`)\n",
    "        * 아주 긴 text를 다루기 위함. 또 그 긴 text를 작은 document들로 나누고자 했다.\n",
    "    거대한 단일 document보다는, `작은 여러개를 LLM에게 전달할 때 검색 성능이 좋아지기 때문`이다.\n",
    "    일단 `저렴`해진다.! document를 작게 분할하면, `작업이 쉬워`지고 `응답도 빨라`지고, LLM 사용 `비용도 훨씬 저렴`해진다.\n",
    "    * `embedding`\n",
    "        * text에 `의미별로 적절한 점수를 부여`해서 `vector 형식으로 표현`한 것.\n",
    "    그리고 `CacheBackedEmbedding`을 사용하여 만들어진 Embedding을 `cache(저장)`했다.\n",
    "    OpenAIEmbeddings model을 사용했었다.(공짜가 아니다.) \n",
    "    * `RetrievalQA`\n",
    "        * RetrievalQA라는 chain을 이용. 필요한 입력값은 LLM, chain의 종류의 chain_type, 그리고 retriever였다.\n",
    "    Retriever는 LangChain이 제공하는 class 또는 interface의 일종인데, document를 검색해서 찾아오는(retrieve) 기능을 가지고 있다. 많은 것들이 retriver가 될 수있다. vector store를 이용해서도 만들 수 있다.\n",
    "    as_retriever 메서드 호출만으로 vector store를 retriever로 전활할 수 있었다.\n",
    "    \n"
   ]
  },
  {
   "cell_type": "markdown",
   "metadata": {},
   "source": [
    "## 6.8 Stuff LCEL Chain\n",
    "이번 강의에서는 LangChain Expression Language(LCEL)를 사용해서 stuff chain을 구현해볼 것이다.\n"
   ]
  },
  {
   "cell_type": "code",
   "execution_count": 6,
   "metadata": {},
   "outputs": [
    {
     "name": "stderr",
     "output_type": "stream",
     "text": [
      "d:\\JUNGWON\\Developments\\Study\\Python\\fullstack-gpt\\env\\Lib\\site-packages\\langchain\\chains\\llm.py:349: UserWarning: The apply_and_parse method is deprecated, instead pass an output parser directly to LLMChain.\n",
      "  warnings.warn(\n"
     ]
    },
    {
     "data": {
      "text/plain": [
       "{'query': '소녀은 개울가에 무엇을 했지?', 'result': '물장난을 하고 있었다.'}"
      ]
     },
     "execution_count": 6,
     "metadata": {},
     "output_type": "execute_result"
    }
   ],
   "source": [
    "from langchain.chat_models import ChatOpenAI\n",
    "from langchain.document_loaders import UnstructuredFileLoader\n",
    "from langchain.text_splitter import CharacterTextSplitter\n",
    "from langchain.vectorstores import FAISS\n",
    "from langchain.embeddings import OpenAIEmbeddings, CacheBackedEmbeddings\n",
    "from langchain.storage import LocalFileStore\n",
    "from langchain.prompts import ChatPromptTemplate\n",
    "\n",
    "from langchain.schema.runnable import RunnablePassthrough\n",
    "\n",
    "llm = ChatOpenAI(temperature=0.1)\n",
    "\n",
    "splitter = CharacterTextSplitter.from_tiktoken_encoder(\n",
    "    separator=\"\\n\",\n",
    "    chunk_size=600,\n",
    "    chunk_overlap=100,\n",
    ")\n",
    "\n",
    "loader = UnstructuredFileLoader(\"./files/chapter_one.docx\")\n",
    "\n",
    "docs = loader.load_and_split(text_splitter=splitter)\n",
    "\n",
    "embeddings = OpenAIEmbeddings()\n",
    "\n",
    "cache_dir = LocalFileStore(\"./.cache/\")\n",
    "cached_embeddings = CacheBackedEmbeddings.from_bytes_store(\n",
    "    embeddings, cache_dir \n",
    ")\n",
    "\n",
    "\n",
    "vectorstore = Chroma.from_documents(docs, cached_embeddings)\n",
    "retriver = vectorstore.as_retriever()\n",
    "prompt = ChatPromptTemplate.from_messages([\n",
    "    (\"system\", \"You are a helpful assistant. Answer questions using only the follwing context. If you don't know the answer just say you don't know, don't make it up:\\n\\n{context}\" ),\n",
    "    (\"human\", \"{question}\")\n",
    "])\n",
    "# RunnablePassthrough는 입력값을 말그대로 패스스루 시켜준다...\n",
    "chian = {\"context\": retriver, \"question\": RunnablePassthrough()} | prompt | llm\n",
    "\n",
    "chain.invoke(\"소녀은 개울가에 무엇을 했지?\")"
   ]
  },
  {
   "cell_type": "markdown",
   "metadata": {},
   "source": [
    "## 6.9 Map Reduce LCEL Chain\n",
    "이번 강의에서는 LCCE를 이용해서 Map Reduce chain을 직접 구현해볼 것이다.\n",
    "\n",
    "### 원리\n",
    "* 일단 document list를 얻어야한다.\n",
    "* list 내부의 모든 document들을 위한 prompt를 만든다.\n",
    "    * 이 propmt는 LLM에게 전달할 건데, 기본적인 내용은 다음과 같다.\n",
    "        * '이 document를 읽고, 사용자의 질문에 답변하기에 적절한 정보가 있는지 확인해주세요.'\n",
    "* 이를 전달받은 LLM은 응답(response)를 출력할 것이다.\n",
    "* LLM으로 받은 response들을 취합해서 하나의 document를 만들어 낼 것이다.\n",
    "* 이렇게 만들어진 단 하나의 최종 document가, LLM을 위한 prompt로 전달될 것이다.\n"
   ]
  },
  {
   "cell_type": "code",
   "execution_count": 3,
   "metadata": {},
   "outputs": [
    {
     "data": {
      "text/plain": [
       "AIMessage(content='Bu metindeki \"소년\" karakteri, bir kızın elini tutarak onu kaldıran ve sonra da ona yardım etmek için bir şeyler yapmaya çalışan biri olarak tanımlanmaktadır.')"
      ]
     },
     "execution_count": 3,
     "metadata": {},
     "output_type": "execute_result"
    }
   ],
   "source": [
    "from langchain.chat_models import ChatOpenAI\n",
    "from langchain.document_loaders import UnstructuredFileLoader\n",
    "from langchain.text_splitter import CharacterTextSplitter\n",
    "from langchain.vectorstores import Chroma\n",
    "from langchain.embeddings import OpenAIEmbeddings, CacheBackedEmbeddings\n",
    "from langchain.storage import LocalFileStore\n",
    "from langchain.prompts import ChatPromptTemplate\n",
    "\n",
    "from langchain.schema.runnable import RunnablePassthrough, RunnableLambda\n",
    "# RunnableLamda는 chian과 그 내부 어디에서든 function을 호출할 수 있도록 해준다.\n",
    "\n",
    "llm = ChatOpenAI(temperature=0.1)\n",
    "\n",
    "splitter = CharacterTextSplitter.from_tiktoken_encoder(\n",
    "    separator=\"\\n\",\n",
    "    chunk_size=600,\n",
    "    chunk_overlap=100,\n",
    ")\n",
    "\n",
    "loader = UnstructuredFileLoader(\"./files/chapter_one.docx\")\n",
    "\n",
    "docs = loader.load_and_split(text_splitter=splitter)\n",
    "\n",
    "embeddings = OpenAIEmbeddings()\n",
    "\n",
    "cache_dir = LocalFileStore(\"./.cache/\")\n",
    "cached_embeddings = CacheBackedEmbeddings.from_bytes_store(\n",
    "    embeddings, cache_dir \n",
    ")\n",
    "\n",
    "\n",
    "vectorstore = Chroma.from_documents(docs, cached_embeddings)\n",
    "retriver = vectorstore.as_retriever()\n",
    "\n",
    "\n",
    "# for doc in list of docs | prompt | llm\n",
    "\n",
    "# for response in list of llms response | put them all together\n",
    "map_doc_prompt = ChatPromptTemplate.from_messages([\n",
    "    (\n",
    "        \"system\",\n",
    "        \"\"\"\n",
    "            Use the following portion of a long document to see if any of the text is relevant to\n",
    "            answer the question. Return any relevant text verbatim.\n",
    "            ------\n",
    "            {context}\n",
    "        \"\"\"\n",
    "    ),\n",
    "    (\n",
    "        \"human\", \"{question}\"\n",
    "    )\n",
    "])\n",
    "\n",
    "map_doc_chain = map_doc_prompt | llm \n",
    "\n",
    "def map_docs(inputs):\n",
    "    documents = inputs[\"documents\"]\n",
    "    question = inputs[\"question\"]\n",
    "    # results = []\n",
    "    # for document in documents:\n",
    "    #     result = map_doc_chain.invoke(\n",
    "    #        { \"context\": document.page_content,\n",
    "    #         \"question\": question }\n",
    "    #     ).content\n",
    "    #     results.append(result)\n",
    "    # results = \"\\n\\n\".join(results)\n",
    "    # return results\n",
    "    return \"\\n\\n\".join(\n",
    "        map_doc_chain.invoke(\n",
    "            { \"context\": doc.page_content, \"question\": question}\n",
    "        ).content for doc in documents\n",
    "    )\n",
    "\n",
    "map_chain = {\"documents\": retriver, \"question\": RunnablePassthrough() } | RunnableLambda(map_docs)\n",
    "\n",
    "final_prompt = ChatPromptTemplate.from_messages([\n",
    "    (\n",
    "        \"system\", \n",
    "        \"\"\"\n",
    "        Given the following extracted parts of a long document and a question, create a final answer.\n",
    "        If you don't know the answer, just say that you don't know. Don't try to make an answer.\n",
    "        ------\n",
    "        {context}\n",
    "        \"\"\",\n",
    "    ),\n",
    "    (\"human\", \"{question}\")\n",
    "\n",
    "])\n",
    "\n",
    "chain = {\"context\": map_chain, \"question\": RunnablePassthrough() } | final_prompt | llm\n",
    "\n",
    "\n",
    "chain.invoke(\"Bana '소년'dan bahset. Türkçe cevap verin.\")\n",
    "# chain.invoke(\"소녀에 대해서 설명해줘\")"
   ]
  },
  {
   "cell_type": "markdown",
   "metadata": {},
   "source": [
    "## 6.10 Recap\n"
   ]
  }
 ],
 "metadata": {
  "kernelspec": {
   "display_name": "env",
   "language": "python",
   "name": "python3"
  },
  "language_info": {
   "codemirror_mode": {
    "name": "ipython",
    "version": 3
   },
   "file_extension": ".py",
   "mimetype": "text/x-python",
   "name": "python",
   "nbconvert_exporter": "python",
   "pygments_lexer": "ipython3",
   "version": "3.11.7"
  }
 },
 "nbformat": 4,
 "nbformat_minor": 2
}
