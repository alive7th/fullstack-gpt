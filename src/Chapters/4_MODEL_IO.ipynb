{
 "cells": [
  {
   "cell_type": "markdown",
   "metadata": {},
   "source": [
    "# 4.1 FewShotPromptTemplate"
   ]
  },
  {
   "cell_type": "code",
   "execution_count": 3,
   "metadata": {},
   "outputs": [
    {
     "data": {
      "text/plain": [
       "'What is the capital of Japan?'"
      ]
     },
     "execution_count": 3,
     "metadata": {},
     "output_type": "execute_result"
    }
   ],
   "source": [
    "from langchain.chat_models import ChatOpenAI\n",
    "from langchain.prompts import PromptTemplate\n",
    "from langchain.prompts.few_shot import FewShotPromptTemplate\n",
    "from langchain.callbacks import StreamingStdOutCallbackHandler\n",
    "\n",
    "chat = ChatOpenAI(\n",
    "    temperature=0.1,\n",
    "    streaming=True,\n",
    "    callbacks=[\n",
    "        StreamingStdOutCallbackHandler(),\n",
    "    ]\n",
    ")\n",
    "\n",
    "# t = PromptTemplate(\n",
    "#     template = \"What is the capital of {country}?\",\n",
    "#     input_variables=[\"country\"],\n",
    "# )\n",
    "\n",
    "# 위방식을 간단하게 아래와 같이 표현할 수 있다.\n",
    "t = PromptTemplate.from_template(\"What is the capital of {country}?\")\n",
    "\n",
    "t.format(country=\"Japan\")\n",
    "\n"
   ]
  },
  {
   "cell_type": "markdown",
   "metadata": {},
   "source": [
    "## Fewshot\n",
    "> `Fewshow`은 모델에게 예제들을 준다는 뜻. 더 나은 대답을 할 수 있도록 하는 예제들을 부여할 수 있다.\n",
    "결괏값을 말로 풀어 설명하는 것 보다 예제 형식을 제시하는 것이 더 나은 방법이기 때문이다.\n",
    "예) 고객 지원 시스템에서 고객 문의 응답에 대한 스크립트 기록 같은 것들을 데이터베이스에서 가져와서 Fewshot으로 형식화할 수 있다."
   ]
  },
  {
   "cell_type": "code",
   "execution_count": 4,
   "metadata": {},
   "outputs": [
    {
     "name": "stdout",
     "output_type": "stream",
     "text": [
      "France is a country located in Western Europe. It is known for its rich history, culture, and contributions to art, literature, and philosophy. Here are some key points about France:\n",
      "\n",
      "1. Capital: The capital city of France is Paris, which is also its largest city. Paris is famous for iconic landmarks like the Eiffel Tower, Louvre Museum, Notre-Dame Cathedral, and Champs-Élysées.\n",
      "\n",
      "2. Language: The official language of France is French, which is spoken by the majority of the population. French is also one of the official languages of many international organizations.\n",
      "\n",
      "3. History: France has a long and influential history. It was home to the Gauls before being conquered by the Romans. It later became a powerful medieval kingdom and played a significant role in the Renaissance, Enlightenment, and French Revolution.\n",
      "\n",
      "4. Cuisine: French cuisine is renowned worldwide. It is known for its diverse range of dishes, including pastries, cheeses, wines, and gourmet cuisine. French culinary techniques and traditions have had a significant impact on global gastronomy.\n",
      "\n",
      "5. Art and Culture: France has been a major center for art and culture for centuries. It is known for its contributions to painting, sculpture, literature, music, and cinema. Famous French artists include Claude Monet, Vincent van Gogh, Édouard Manet, and Auguste Rodin.\n",
      "\n",
      "6. Fashion: France is considered a global fashion capital, with Paris being one of the world's fashion hubs. It is home to renowned fashion houses like Chanel, Dior, Louis Vuitton, and Hermès.\n",
      "\n",
      "7. Tourism: France is one of the most visited countries in the world, attracting millions of tourists each year. Besides Paris, popular tourist destinations include the French Riviera, Provence, the Loire Valley, the French Alps, and the historic city of Versailles.\n",
      "\n",
      "8. Sports: Football (soccer) is the most popular sport in France, and the national team has won the FIFA World Cup twice. Other popular sports include rugby, tennis, cycling, and basketball.\n",
      "\n",
      "9. Landmarks: France is home to numerous iconic landmarks, including the Eiffel Tower, Louvre Museum, Palace of Versailles, Mont Saint-Michel, Notre-Dame Cathedral, and the French Riviera.\n",
      "\n",
      "10. European Union: France is a founding member of the European Union (EU) and plays a significant role in European politics and economics.\n",
      "\n",
      "These are just a few highlights about France, and there is much more to explore and learn about this fascinating country."
     ]
    },
    {
     "data": {
      "text/plain": [
       "\"France is a country located in Western Europe. It is known for its rich history, culture, and contributions to art, literature, and philosophy. Here are some key points about France:\\n\\n1. Capital: The capital city of France is Paris, which is also its largest city. Paris is famous for iconic landmarks like the Eiffel Tower, Louvre Museum, Notre-Dame Cathedral, and Champs-Élysées.\\n\\n2. Language: The official language of France is French, which is spoken by the majority of the population. French is also one of the official languages of many international organizations.\\n\\n3. History: France has a long and influential history. It was home to the Gauls before being conquered by the Romans. It later became a powerful medieval kingdom and played a significant role in the Renaissance, Enlightenment, and French Revolution.\\n\\n4. Cuisine: French cuisine is renowned worldwide. It is known for its diverse range of dishes, including pastries, cheeses, wines, and gourmet cuisine. French culinary techniques and traditions have had a significant impact on global gastronomy.\\n\\n5. Art and Culture: France has been a major center for art and culture for centuries. It is known for its contributions to painting, sculpture, literature, music, and cinema. Famous French artists include Claude Monet, Vincent van Gogh, Édouard Manet, and Auguste Rodin.\\n\\n6. Fashion: France is considered a global fashion capital, with Paris being one of the world's fashion hubs. It is home to renowned fashion houses like Chanel, Dior, Louis Vuitton, and Hermès.\\n\\n7. Tourism: France is one of the most visited countries in the world, attracting millions of tourists each year. Besides Paris, popular tourist destinations include the French Riviera, Provence, the Loire Valley, the French Alps, and the historic city of Versailles.\\n\\n8. Sports: Football (soccer) is the most popular sport in France, and the national team has won the FIFA World Cup twice. Other popular sports include rugby, tennis, cycling, and basketball.\\n\\n9. Landmarks: France is home to numerous iconic landmarks, including the Eiffel Tower, Louvre Museum, Palace of Versailles, Mont Saint-Michel, Notre-Dame Cathedral, and the French Riviera.\\n\\n10. European Union: France is a founding member of the European Union (EU) and plays a significant role in European politics and economics.\\n\\nThese are just a few highlights about France, and there is much more to explore and learn about this fascinating country.\""
      ]
     },
     "execution_count": 4,
     "metadata": {},
     "output_type": "execute_result"
    }
   ],
   "source": [
    "#예제없이 작성 테스트\n",
    "chat.predict(\"What do you know about France?\")"
   ]
  },
  {
   "cell_type": "code",
   "execution_count": 22,
   "metadata": {},
   "outputs": [
    {
     "name": "stdout",
     "output_type": "stream",
     "text": [
      "I know this:\n",
      "Capital: Ankara\n",
      "Language: Turkish\n",
      "Food: Kebab and Baklava\n",
      "Currency: Turkish Lira"
     ]
    },
    {
     "data": {
      "text/plain": [
       "AIMessageChunk(content='I know this:\\nCapital: Ankara\\nLanguage: Turkish\\nFood: Kebab and Baklava\\nCurrency: Turkish Lira')"
      ]
     },
     "execution_count": 22,
     "metadata": {},
     "output_type": "execute_result"
    }
   ],
   "source": [
    "#실제 FewShotPromptTemplate를 사용하여 만들어 보자.\n",
    "examples = [\n",
    "    {\n",
    "        \"question\": \"What do you know about France?\",\n",
    "        \"answer\": \"\"\"\n",
    "        Here is what I know:\n",
    "        Capital: Paris\n",
    "        Language: French\n",
    "        Food: Wine and Cheese\n",
    "        Currency: Euro\n",
    "        \"\"\",\n",
    "    },\n",
    "    {\n",
    "        \"question\": \"What do you know about Italy?\",\n",
    "        \"answer\": \"\"\"\n",
    "        I Know this:\n",
    "        Capital: Rome\n",
    "        Language: Italian\n",
    "        Food: Pizza and Pasta\n",
    "        Currency: Euro\n",
    "        \"\"\",\n",
    "    },\n",
    "    {\n",
    "        \"question\": \"What do you know about Greece?\",\n",
    "        \"answer\": \"\"\"\n",
    "        I Know this:\n",
    "        Capital: Athens\n",
    "        Language: Greek\n",
    "        Food: Souvlaki and Feta Cheese\n",
    "        Currency: Euro\n",
    "        \"\"\",\n",
    "    },\n",
    "]\n",
    "# 1. 예제 형식을 지정하기. 형식화 하려면 형식 지정 도구를 만들어야한다.\n",
    "example_template = \"\"\"\n",
    "    Human: {question}\n",
    "    AI: {answer}\n",
    "\"\"\"\n",
    "example_prompt = PromptTemplate.from_template(example_template)\n",
    "# 아래 방식으로 동일하게 작동한다.\n",
    "example_prompt = PromptTemplate.from_template(\"Human: {question}\\nAI: {answer}\")\n",
    "\n",
    "prompt = FewShotPromptTemplate(\n",
    "    example_prompt=example_prompt,\n",
    "    examples = examples,\n",
    "    suffix=\"Human: What do you know about {country}? \",\n",
    "    input_variables=[\"country\"]\n",
    ")\n",
    "# suffix는 형식화 된 모든 예제 마지막에 나오는 내용\n",
    "\n",
    "prompt.format(country=\"Germany\")\n",
    "\n",
    "# 이프롬프트를 chain에 넣어보자\n",
    "chain = prompt | chat\n",
    "\n",
    "chain.invoke({\n",
    "    \"country\": \"Japan\"\n",
    "})\n"
   ]
  },
  {
   "cell_type": "markdown",
   "metadata": {},
   "source": [
    "# 4.2 FewShotChatMessagePromptTemplate\n",
    "채팅 메시지를 위해 사용.."
   ]
  },
  {
   "cell_type": "code",
   "execution_count": 20,
   "metadata": {},
   "outputs": [
    {
     "name": "stdout",
     "output_type": "stream",
     "text": [
      "I know this:\n",
      "Capital: Ankara\n",
      "Language: Turkish\n",
      "Food: Kebab and Baklava\n",
      "Currency: Turkish Lira"
     ]
    },
    {
     "data": {
      "text/plain": [
       "AIMessageChunk(content='I know this:\\nCapital: Ankara\\nLanguage: Turkish\\nFood: Kebab and Baklava\\nCurrency: Turkish Lira')"
      ]
     },
     "execution_count": 20,
     "metadata": {},
     "output_type": "execute_result"
    }
   ],
   "source": [
    "from langchain.chat_models import ChatOpenAI\n",
    "from langchain.prompts.few_shot import FewShotChatMessagePromptTemplate\n",
    "from langchain.callbacks import StreamingStdOutCallbackHandler\n",
    "from langchain.prompts import ChatPromptTemplate\n",
    "\n",
    "chat = ChatOpenAI(\n",
    "    temperature=0.1,\n",
    "    streaming=True,\n",
    "    callbacks=[\n",
    "        StreamingStdOutCallbackHandler(),\n",
    "    ]\n",
    ")\n",
    "\n",
    "# 실제 FewShotPromptTemplate를 사용하여 만들어 보자.\n",
    "examples = [\n",
    "    {\n",
    "        \"country\": \"France\",\n",
    "        \"answer\": \"\"\"\n",
    "        Here is what I know:\n",
    "        Capital: Paris\n",
    "        Language: French\n",
    "        Food: Wine and Cheese\n",
    "        Currency: Euro\n",
    "        \"\"\",\n",
    "    },\n",
    "    {\n",
    "        \"country\": \"Italy\",\n",
    "        \"answer\": \"\"\"\n",
    "        I Know this:\n",
    "        Capital: Rome\n",
    "        Language: Italian\n",
    "        Food: Pizza and Pasta\n",
    "        Currency: Euro\n",
    "        \"\"\",\n",
    "    },\n",
    "    {\n",
    "        \"country\": \"Greece\",\n",
    "        \"answer\": \"\"\"\n",
    "        I Know this:\n",
    "        Capital: Athens\n",
    "        Language: Greek\n",
    "        Food: Souvlaki and Feta Cheese\n",
    "        Currency: Euro\n",
    "        \"\"\",\n",
    "    },\n",
    "]\n",
    "# 1. 예제 형식을 지정하기. 형식화 하려면 형식 지정 도구를 만들어야한다.\n",
    "example_prompt = ChatPromptTemplate.from_messages([\n",
    "    (\"human\",\" What do you know about {country}?\"),\n",
    "    (\"ai\", \"{answer}\")\n",
    "])\n",
    "example_prompt = FewShotChatMessagePromptTemplate(\n",
    "    example_prompt=example_prompt,\n",
    "    examples = examples\n",
    ")\n",
    "\n",
    "final_prompt = ChatPromptTemplate.from_messages([\n",
    "    (\"system\", \"You are a geography expert\"),\n",
    "    example_prompt,\n",
    "    (\"human\", \"What do you know about {country}?\")\n",
    "])\n",
    "\n",
    "# 이프롬프트를 chain에 넣어보자\n",
    "chain = final_prompt | chat\n",
    "\n",
    "chain.invoke({\n",
    "    \"country\": \"Turkey\"\n",
    "})\n"
   ]
  },
  {
   "cell_type": "markdown",
   "metadata": {},
   "source": [
    "# 4.3 LengthBasedExampleSelector\n",
    "다이나믹하게 예제를 선택하는 방법.\n",
    "많은 예제들이 존재할 수 있는데 예제가 많으면 더많은 prompot비용을 지불해야한다.\n",
    "이럴 경우 적절한 example들을 골라서 promt에 허용할 것인지 결정해애한다.\n",
    "그리고 지불할 돈이 있더라도 떄로는 모델에 알맞는 양의 제한이 있기 때문이다."
   ]
  },
  {
   "cell_type": "code",
   "execution_count": 35,
   "metadata": {},
   "outputs": [
    {
     "data": {
      "text/plain": [
       "'Human: What do you know about Italy?\\nAI: \\n        I Know this:\\n        Capital: Rome\\n        Language: Italian\\n        Food: Pizza and Pasta\\n        Currency: Euro\\n        \\n\\nHuman: What do you know about Brazil? '"
      ]
     },
     "execution_count": 35,
     "metadata": {},
     "output_type": "execute_result"
    }
   ],
   "source": [
    "from typing import Any, Dict\n",
    "from langchain.chat_models import ChatOpenAI\n",
    "from langchain.prompts.few_shot import FewShotPromptTemplate\n",
    "from langchain.callbacks import StreamingStdOutCallbackHandler\n",
    "from langchain.prompts import ChatPromptTemplate\n",
    "# 기본적인 예제들을 형식화 할 수 있고 예제의 양이 얼마나 되는지 확인 할 수 있다.\n",
    "from langchain.prompts.example_selector import LengthBasedExampleSelector\n",
    "from langchain.prompts.example_selector.base import BaseExampleSelector\n",
    "import random\n",
    "\n",
    "class RandomExampleSelector(BaseExampleSelector):\n",
    "    def __init__(self, examples):\n",
    "        self.examples = examples\n",
    "\n",
    "    def add_example(self, example):\n",
    "        self.examples.appenx(example)\n",
    "    \n",
    "    def select_examples(self, input_variables):\n",
    "        from random import choice\n",
    "        return [choice(self.examples)]\n",
    "\n",
    "chat = ChatOpenAI(\n",
    "    temperature=0.1,\n",
    "    streaming=True,\n",
    "    callbacks=[\n",
    "        StreamingStdOutCallbackHandler(),\n",
    "    ]\n",
    ")\n",
    "\n",
    "#실제 FewShotPromptTemplate를 사용하여 만들어 보자.\n",
    "examples = [\n",
    "    {\n",
    "        \"question\": \"What do you know about France?\",\n",
    "        \"answer\": \"\"\"\n",
    "        Here is what I know:\n",
    "        Capital: Paris\n",
    "        Language: French\n",
    "        Food: Wine and Cheese\n",
    "        Currency: Euro\n",
    "        \"\"\",\n",
    "    },\n",
    "    {\n",
    "        \"question\": \"What do you know about Italy?\",\n",
    "        \"answer\": \"\"\"\n",
    "        I Know this:\n",
    "        Capital: Rome\n",
    "        Language: Italian\n",
    "        Food: Pizza and Pasta\n",
    "        Currency: Euro\n",
    "        \"\"\",\n",
    "    },\n",
    "    {\n",
    "        \"question\": \"What do you know about Greece?\",\n",
    "        \"answer\": \"\"\"\n",
    "        I Know this:\n",
    "        Capital: Athens\n",
    "        Language: Greek\n",
    "        Food: Souvlaki and Feta Cheese\n",
    "        Currency: Euro\n",
    "        \"\"\",\n",
    "    },\n",
    "]\n",
    "# 1. 예제 형식을 지정하기. 형식화 하려면 형식 지정 도구를 만들어야한다.\n",
    "# example_template = \"\"\"\n",
    "#     Human: {question}\n",
    "#     AI: {answer}\n",
    "# \"\"\"\n",
    "# example_prompt = PromptTemplate.from_template(example_template)\n",
    "# 아래 방식으로 동일하게 작동한다.\n",
    "example_prompt = PromptTemplate.from_template(\"Human: {question}\\nAI: {answer}\")\n",
    "\n",
    "# example_selector = LengthBasedExampleSelector(\n",
    "#     examples=examples,\n",
    "#     example_prompt=example_prompt,\n",
    "#     max_length=180, #예제의 양을 조절.\n",
    "# )\n",
    "example_selector = RandomExampleSelector(\n",
    "    examples=examples\n",
    ")\n",
    "prompt = FewShotPromptTemplate(\n",
    "    example_prompt=example_prompt,\n",
    "    # examples = examples,\n",
    "    example_selector=example_selector,\n",
    "    suffix=\"Human: What do you know about {country}? \",\n",
    "    input_variables=[\"country\"]\n",
    ")\n",
    "# suffix는 형식화 된 모든 예제 마지막에 나오는 내용\n",
    "\n",
    "prompt.format(country=\"Brazil\")\n",
    "\n",
    "# 이프롬프트를 chain에 넣어보자\n",
    "# chain = prompt | chat\n",
    "\n",
    "# chain.invoke({\n",
    "#     \"country\": \"Japan\"\n",
    "# })\n"
   ]
  },
  {
   "cell_type": "markdown",
   "metadata": {},
   "source": [
    "# 4.4 Serialization and Composition\n",
    "이번장에서는 디스크에서 prompt templates를 가죠오는 방법에 대해서 학습한다.\n",
    "회사에서 프롬프트 엔지니어링하느 사람이 있고 내가 개발자라면 해당 프롬포트를 가져와야 하는 상황이라던가\n",
    "어딘가 저장해두고, 다른 누구나 프롬프트를 가져다 쓸수 있도록 하고 싶은 경우에 유용.\n",
    "\n",
    "\n"
   ]
  },
  {
   "cell_type": "markdown",
   "metadata": {},
   "source": [
    "### 두가지 타입의 prompt\n",
    "* Json\n",
    "* yaml\n"
   ]
  },
  {
   "cell_type": "code",
   "execution_count": 39,
   "metadata": {},
   "outputs": [
    {
     "data": {
      "text/plain": [
       "'What is the capital of Germany?'"
      ]
     },
     "execution_count": 39,
     "metadata": {},
     "output_type": "execute_result"
    }
   ],
   "source": [
    "from langchain.chat_models import ChatOpenAI\n",
    "from langchain.callbacks import StreamingStdOutCallbackHandler\n",
    "from langchain.prompts import load_prompt\n",
    "\n",
    "# prompt = load_prompt(\"./prompt.json\")\n",
    "prompt = load_prompt(\"./prompt.yaml\")\n",
    "\n",
    "prompt.format(country=\"Germany\")\n",
    "\n",
    "# chat = ChatOpenAI(\n",
    "#     temperature=0.1,\n",
    "#     streaming=True,\n",
    "#     callbacks=[\n",
    "#         StreamingStdOutCallbackHandler()\n",
    "#     ]\n",
    "# )\n"
   ]
  },
  {
   "cell_type": "markdown",
   "metadata": {},
   "source": [
    "### 많은 prompt들의 memory 등을 다 모으는 방법에 대해 알아볼것이다. \n",
    "prompt가 많을 떄 유용"
   ]
  },
  {
   "cell_type": "code",
   "execution_count": 44,
   "metadata": {},
   "outputs": [
    {
     "name": "stdout",
     "output_type": "stream",
     "text": [
      "Me: Ahhh, me favorite food be a hearty feast of roasted boar and freshly baked bread! The taste of victory be sweeter with a full belly, arg arg!"
     ]
    },
    {
     "data": {
      "text/plain": [
       "AIMessageChunk(content='Me: Ahhh, me favorite food be a hearty feast of roasted boar and freshly baked bread! The taste of victory be sweeter with a full belly, arg arg!')"
      ]
     },
     "execution_count": 44,
     "metadata": {},
     "output_type": "execute_result"
    }
   ],
   "source": [
    "from langchain.chat_models import ChatOpenAI\n",
    "from langchain.callbacks import StreamingStdOutCallbackHandler\n",
    "# PiplinelinePromptTemplate은 많은 prompt들을 하나로 합칠 수 있도록 해준다.\n",
    "from langchain.prompts.pipeline import PipelinePromptTemplate\n",
    "\n",
    "\n",
    "chat = ChatOpenAI(\n",
    "    temperature=0.1,\n",
    "    streaming=True,\n",
    "    callbacks=[\n",
    "        StreamingStdOutCallbackHandler()\n",
    "    ]\n",
    ")\n",
    "\n",
    "intro = PromptTemplate.from_template(\n",
    "    \"\"\"\n",
    "    You are a role playing assistant.\n",
    "    And you are impersonating a {character}\n",
    "\"\"\"\n",
    ")\n",
    "\n",
    "example = PromptTemplate.from_template(\n",
    "    \"\"\"\n",
    "    This is an example of how you talk:\n",
    "\n",
    "    Human: {example_question}\n",
    "    You: {example_answer}\n",
    "\"\"\"\n",
    ")\n",
    "\n",
    "start = PromptTemplate.from_template(\n",
    "    \"\"\"\n",
    "    Start now!\n",
    "\n",
    "    Human: {question}\n",
    "    You:\n",
    "\"\"\"\n",
    ")\n",
    "\n",
    "final = PromptTemplate.from_template(\n",
    "    \"\"\"\n",
    "    {intro}\n",
    "                                     \n",
    "    {example}\n",
    "                              \n",
    "    {start}\n",
    "\"\"\"\n",
    ")\n",
    "\n",
    "prompts = [\n",
    "    (\"intro\", intro),\n",
    "    (\"example\", example),\n",
    "    (\"start\", start)\n",
    "]\n",
    "\n",
    "full_prompt = PipelinePromptTemplate(final_prompt=final, pipeline_prompts=prompts)\n",
    "\n",
    "full_prompt.format(\n",
    "    character=\"Viking\",\n",
    "    example_question=\"What is your location\",\n",
    "    example_answer=\"Arrrrg! That is a secret!! Arg arg!!\",\n",
    "    question=\"What is your fav food? reply in Korean\"\n",
    ")\n",
    "\n",
    "chain = full_prompt | chat\n",
    "\n",
    "chain.invoke({\n",
    "    \"character\": \"Viking\",\n",
    "    \"example_question\": \"What is your location\",\n",
    "    \"example_answer\": \"Arrrrg! That is a secret!! Arg arg!!\",\n",
    "    \"question\": \"What is your fav food?\"\n",
    "})"
   ]
  },
  {
   "cell_type": "markdown",
   "metadata": {},
   "source": [
    "# 4.5. Caching"
   ]
  }
 ],
 "metadata": {
  "kernelspec": {
   "display_name": "env",
   "language": "python",
   "name": "python3"
  },
  "language_info": {
   "codemirror_mode": {
    "name": "ipython",
    "version": 3
   },
   "file_extension": ".py",
   "mimetype": "text/x-python",
   "name": "python",
   "nbconvert_exporter": "python",
   "pygments_lexer": "ipython3",
   "version": "3.11.7"
  }
 },
 "nbformat": 4,
 "nbformat_minor": 2
}
